{
 "cells": [
  {
   "cell_type": "code",
   "execution_count": 3,
   "metadata": {},
   "outputs": [
    {
     "data": {
      "text/plain": [
       "find_ioequation (generic function with 2 methods)"
      ]
     },
     "execution_count": 3,
     "metadata": {},
     "output_type": "execute_result"
    }
   ],
   "source": [
    "include(\"io_equation.jl\")"
   ]
  },
  {
   "cell_type": "markdown",
   "metadata": {},
   "source": [
    "This is the SIWR model with an extra output as considered in the SIAN paper"
   ]
  },
  {
   "cell_type": "code",
   "execution_count": 4,
   "metadata": {},
   "outputs": [
    {
     "name": "stdout",
     "output_type": "stream",
     "text": [
      "┌ Debug: \t Computing Lie derivatives 2020-09-12T22:56:09.653\n",
      "└ @ Main /home/gleb/code/EliminationODE/io_equation.jl:83\n",
      "┌ Debug: Current degrees of io-equations [(1, [1]), (2, [1, 1, 1])]\n",
      "└ @ Main /home/gleb/code/EliminationODE/io_equation.jl:123\n",
      "┌ Debug: Orders: [0, 0]\n",
      "└ @ Main /home/gleb/code/EliminationODE/io_equation.jl:124\n",
      "┌ Debug: Sizes: [2, 4]\n",
      "└ @ Main /home/gleb/code/EliminationODE/io_equation.jl:125\n",
      "┌ Debug: Scores: [(1, -1, 2, 1), (1, -3, 4, 2)]\n",
      "└ @ Main /home/gleb/code/EliminationODE/io_equation.jl:136\n",
      "┌ Debug: Prolonging output number 2\n",
      "└ @ Main /home/gleb/code/EliminationODE/io_equation.jl:139\n",
      "┌ Debug: \t Using GCD to eliminate extra factors 2020-09-12T22:56:10.575\n",
      "└ @ Main /home/gleb/code/EliminationODE/elimination.jl:317\n",
      "┌ Debug: Generating new point on the variety\n",
      "└ @ Main /home/gleb/code/EliminationODE/elimination.jl:170\n",
      "┌ Debug: Generating new point on the variety\n",
      "└ @ Main /home/gleb/code/EliminationODE/elimination.jl:170\n",
      "┌ Debug: \t Decreasing degree with linear combination 2020-09-12T22:56:10.776\n",
      "└ @ Main /home/gleb/code/EliminationODE/elimination.jl:237\n",
      "┌ Debug: \t Using GCD to eliminate extra factors 2020-09-12T22:56:10.776\n",
      "└ @ Main /home/gleb/code/EliminationODE/elimination.jl:317\n",
      "┌ Debug: \t Decreasing degree with linear combination 2020-09-12T22:56:10.776\n",
      "└ @ Main /home/gleb/code/EliminationODE/elimination.jl:237\n",
      "┌ Debug: \t Using GCD to eliminate extra factors 2020-09-12T22:56:10.777\n",
      "└ @ Main /home/gleb/code/EliminationODE/elimination.jl:317\n",
      "┌ Debug: \t Decreasing degree with linear combination 2020-09-12T22:56:10.777\n",
      "└ @ Main /home/gleb/code/EliminationODE/elimination.jl:237\n",
      "┌ Debug: \t Using GCD to eliminate extra factors 2020-09-12T22:56:10.777\n",
      "└ @ Main /home/gleb/code/EliminationODE/elimination.jl:317\n",
      "┌ Debug: Elimination of x_3, 4 left; 2020-09-12T22:56:10.857\n",
      "└ @ Main /home/gleb/code/EliminationODE/io_equation.jl:153\n",
      "┌ Debug: \t Using GCD to eliminate extra factors 2020-09-12T22:56:10.857\n",
      "└ @ Main /home/gleb/code/EliminationODE/elimination.jl:317\n",
      "┌ Debug: \t Using GCD to eliminate extra factors 2020-09-12T22:56:10.858\n",
      "└ @ Main /home/gleb/code/EliminationODE/elimination.jl:317\n",
      "┌ Debug: \t Decreasing degree with linear combination 2020-09-12T22:56:10.858\n",
      "└ @ Main /home/gleb/code/EliminationODE/elimination.jl:243\n",
      "┌ Debug: \t Using GCD to eliminate extra factors 2020-09-12T22:56:10.858\n",
      "└ @ Main /home/gleb/code/EliminationODE/elimination.jl:317\n",
      "┌ Debug: \t Using GCD to eliminate extra factors 2020-09-12T22:56:10.858\n",
      "└ @ Main /home/gleb/code/EliminationODE/elimination.jl:317\n",
      "┌ Debug: \t Decreasing degree with linear combination 2020-09-12T22:56:10.859\n",
      "└ @ Main /home/gleb/code/EliminationODE/elimination.jl:237\n",
      "┌ Debug: \t Using GCD to eliminate extra factors 2020-09-12T22:56:10.859\n",
      "└ @ Main /home/gleb/code/EliminationODE/elimination.jl:317\n",
      "┌ Debug: Current degrees of io-equations [(1, [1])]\n",
      "└ @ Main /home/gleb/code/EliminationODE/io_equation.jl:123\n",
      "┌ Debug: Orders: [0, 1]\n",
      "└ @ Main /home/gleb/code/EliminationODE/io_equation.jl:124\n",
      "┌ Debug: Sizes: [2, 3]\n",
      "└ @ Main /home/gleb/code/EliminationODE/io_equation.jl:125\n",
      "┌ Debug: Scores: [(1, -1, 2, 1)]\n",
      "└ @ Main /home/gleb/code/EliminationODE/io_equation.jl:136\n",
      "┌ Debug: Prolonging output number 1\n",
      "└ @ Main /home/gleb/code/EliminationODE/io_equation.jl:139\n",
      "┌ Debug: \t Using GCD to eliminate extra factors 2020-09-12T22:56:10.86\n",
      "└ @ Main /home/gleb/code/EliminationODE/elimination.jl:317\n",
      "┌ Debug: \t Decreasing degree with linear combination 2020-09-12T22:56:10.86\n",
      "└ @ Main /home/gleb/code/EliminationODE/elimination.jl:237\n",
      "┌ Debug: \t Using GCD to eliminate extra factors 2020-09-12T22:56:10.86\n",
      "└ @ Main /home/gleb/code/EliminationODE/elimination.jl:317\n",
      "┌ Debug: \t Using GCD to eliminate extra factors 2020-09-12T22:56:10.86\n",
      "└ @ Main /home/gleb/code/EliminationODE/elimination.jl:317\n",
      "┌ Debug: Elimination of x_1, 3 left; 2020-09-12T22:56:10.861\n",
      "└ @ Main /home/gleb/code/EliminationODE/io_equation.jl:153\n",
      "┌ Debug: \t Using GCD to eliminate extra factors 2020-09-12T22:56:10.904\n",
      "└ @ Main /home/gleb/code/EliminationODE/elimination.jl:317\n",
      "┌ Debug: \t Using GCD to eliminate extra factors 2020-09-12T22:56:10.905\n",
      "└ @ Main /home/gleb/code/EliminationODE/elimination.jl:317\n",
      "┌ Debug: \t Using GCD to eliminate extra factors 2020-09-12T22:56:10.905\n",
      "└ @ Main /home/gleb/code/EliminationODE/elimination.jl:317\n",
      "┌ Debug: \t Decreasing degree with linear combination 2020-09-12T22:56:10.905\n",
      "└ @ Main /home/gleb/code/EliminationODE/elimination.jl:237\n",
      "┌ Debug: \t Using GCD to eliminate extra factors 2020-09-12T22:56:10.906\n",
      "└ @ Main /home/gleb/code/EliminationODE/elimination.jl:317\n",
      "┌ Debug: Current degrees of io-equations [(1, [1, 1])]\n",
      "└ @ Main /home/gleb/code/EliminationODE/io_equation.jl:123\n",
      "┌ Debug: Orders: [1, 1]\n",
      "└ @ Main /home/gleb/code/EliminationODE/io_equation.jl:124\n",
      "┌ Debug: Sizes: [5, 3]\n",
      "└ @ Main /home/gleb/code/EliminationODE/io_equation.jl:125\n",
      "┌ Debug: Scores: [(1, -2, 5, 1)]\n",
      "└ @ Main /home/gleb/code/EliminationODE/io_equation.jl:136\n",
      "┌ Debug: Prolonging output number 1\n",
      "└ @ Main /home/gleb/code/EliminationODE/io_equation.jl:139\n",
      "┌ Debug: \t Decreasing degree with linear combination 2020-09-12T22:56:10.906\n",
      "└ @ Main /home/gleb/code/EliminationODE/elimination.jl:237\n",
      "┌ Debug: \t Using GCD to eliminate extra factors 2020-09-12T22:56:10.907\n",
      "└ @ Main /home/gleb/code/EliminationODE/elimination.jl:317\n",
      "┌ Debug: \t Using GCD to eliminate extra factors 2020-09-12T22:56:10.907\n",
      "└ @ Main /home/gleb/code/EliminationODE/elimination.jl:317\n",
      "┌ Debug: Elimination of x_0, 2 left; 2020-09-12T22:56:10.907\n",
      "└ @ Main /home/gleb/code/EliminationODE/io_equation.jl:153\n",
      "┌ Debug: \t Applying variable change: x_2 --> x_2 - ( -bi*y1_0 )/( -bw*k ); 2020-09-12T22:56:10.943\n",
      "└ @ Main /home/gleb/code/EliminationODE/io_equation.jl:165\n",
      "┌ Debug: \t Using GCD to eliminate extra factors 2020-09-12T22:56:11.398\n",
      "└ @ Main /home/gleb/code/EliminationODE/elimination.jl:317\n",
      "┌ Debug: \t \t Size of extra factor: 1; 2020-09-12T22:56:11.465\n",
      "└ @ Main /home/gleb/code/EliminationODE/elimination.jl:325\n",
      "┌ Debug: \t \t It is bw*k^2\n",
      "└ @ Main /home/gleb/code/EliminationODE/elimination.jl:326\n",
      "┌ Debug: \t Using GCD to eliminate extra factors 2020-09-12T22:56:11.468\n",
      "└ @ Main /home/gleb/code/EliminationODE/elimination.jl:317\n",
      "┌ Debug: \t Using GCD to eliminate extra factors 2020-09-12T22:56:11.468\n",
      "└ @ Main /home/gleb/code/EliminationODE/elimination.jl:317\n",
      "┌ Debug: \t Using GCD to eliminate extra factors 2020-09-12T22:56:11.469\n",
      "└ @ Main /home/gleb/code/EliminationODE/elimination.jl:317\n",
      "┌ Debug: \t \t Size of extra factor: 1; 2020-09-12T22:56:11.47\n",
      "└ @ Main /home/gleb/code/EliminationODE/elimination.jl:325\n",
      "┌ Debug: \t \t It is bw^3*k^4\n",
      "└ @ Main /home/gleb/code/EliminationODE/elimination.jl:326\n",
      "┌ Debug: Current degrees of io-equations [(1, [2])]\n",
      "└ @ Main /home/gleb/code/EliminationODE/io_equation.jl:123\n",
      "┌ Debug: Orders: [2, 1]\n",
      "└ @ Main /home/gleb/code/EliminationODE/io_equation.jl:124\n",
      "┌ Debug: Sizes: [26, 3]\n",
      "└ @ Main /home/gleb/code/EliminationODE/io_equation.jl:125\n",
      "┌ Debug: Scores: [(2, -1, 26, 1)]\n",
      "└ @ Main /home/gleb/code/EliminationODE/io_equation.jl:136\n",
      "┌ Debug: Prolonging output number 1\n",
      "└ @ Main /home/gleb/code/EliminationODE/io_equation.jl:139\n",
      "┌ Debug: \t Decreasing degree with linear combination 2020-09-12T22:56:11.471\n",
      "└ @ Main /home/gleb/code/EliminationODE/elimination.jl:237\n",
      "┌ Debug: \t Using GCD to eliminate extra factors 2020-09-12T22:56:11.471\n",
      "└ @ Main /home/gleb/code/EliminationODE/elimination.jl:317\n",
      "┌ Debug: Elimination of x_2, 1 left; 2020-09-12T22:56:11.472\n",
      "└ @ Main /home/gleb/code/EliminationODE/io_equation.jl:153\n",
      "┌ Debug: \t Using GCD to eliminate extra factors 2020-09-12T22:56:11.472\n",
      "└ @ Main /home/gleb/code/EliminationODE/elimination.jl:317\n",
      "┌ Debug: Calculating Bezout Matrix 2020-09-12T22:56:11.473\n",
      "└ @ Main /home/gleb/code/EliminationODE/elimination.jl:290\n",
      "┌ Debug: Simplifying Bezout Matrix 2020-09-12T22:56:11.586\n",
      "└ @ Main /home/gleb/code/EliminationODE/elimination.jl:294\n",
      "┌ Debug: \t Bezout matrix size: \n",
      "│  [105   61]\n",
      "│ [150  161]\n",
      "└ @ Main /home/gleb/code/EliminationODE/elimination.jl:306\n",
      "┌ Debug: \t Computing determinant 2020-09-12T22:56:12.026\n",
      "└ @ Main /home/gleb/code/EliminationODE/elimination.jl:307\n",
      "┌ Debug: Discarded: ((1,), (1,)); 2020-09-12T22:56:12.819\n",
      "└ @ Main /home/gleb/code/EliminationODE/elimination.jl:32\n",
      "┌ Debug: Discarded: ((1,), (2,)); 2020-09-12T22:56:12.868\n",
      "└ @ Main /home/gleb/code/EliminationODE/elimination.jl:32\n",
      "┌ Debug: Discarded: ((), ()); 2020-09-12T22:56:12.868\n",
      "└ @ Main /home/gleb/code/EliminationODE/elimination.jl:32\n",
      "┌ Debug: \t Using GCD to eliminate extra factors 2020-09-12T22:56:12.898\n",
      "└ @ Main /home/gleb/code/EliminationODE/elimination.jl:317\n",
      "  4.268451 seconds (9.61 M allocations: 490.790 MiB, 1.67% gc time)\n"
     ]
    }
   ],
   "source": [
    "# SIWR Cholera model\n",
    "logger = Logging.SimpleLogger(stdout, Logging.Debug)\n",
    "global_logger(logger)\n",
    "\n",
    "var_names = [\n",
    "    \"x_0\", \"x_1\", \"x_2\", \"x_3\",\n",
    "    \"a\", \"bi\", \"bw\", \"gam\", \"mu\", \"xi\", \"k\"\n",
    "]\n",
    "R, (x_0, x_1, x_2, x_3, a, bi, bw, gam, mu, xi, k) = PolynomialRing(QQ, var_names)\n",
    "\n",
    "ode = ODE(\n",
    "    Dict(\n",
    "        x_0 => mu - bi * x_0 * x_1 - bw * x_0 * x_2 - mu * x_0 + a * x_3,\n",
    "        x_1 => bw * x_0 * x_2 + bi * x_0 * x_1 - (gam + mu) * x_1,\n",
    "        x_2 => xi * (x_1 - x_2),\n",
    "        x_3 => gam * x_1 - (mu + a) * x_3\n",
    "    ),\n",
    "    []\n",
    ")\n",
    "\n",
    "@time io_equation = find_ioequation(ode, [k * x_1, x_0 + x_1 + x_3]);"
   ]
  },
  {
   "cell_type": "code",
   "execution_count": 5,
   "metadata": {},
   "outputs": [
    {
     "data": {
      "text/html": [
       "[$4872$, $3$]"
      ],
      "text/plain": [
       "2-element Array{Int64,1}:\n",
       " 4872\n",
       "    3"
      ]
     },
     "execution_count": 5,
     "metadata": {},
     "output_type": "execute_result"
    }
   ],
   "source": [
    "map(length, io_equation)"
   ]
  },
  {
   "cell_type": "code",
   "execution_count": 6,
   "metadata": {},
   "outputs": [
    {
     "data": {
      "text/plain": [
       "mu*y2_0 - mu + y2_1"
      ]
     },
     "execution_count": 6,
     "metadata": {},
     "output_type": "execute_result"
    }
   ],
   "source": [
    "io_equation[end]"
   ]
  },
  {
   "cell_type": "markdown",
   "metadata": {},
   "source": [
    "And this indeed follows from the original equations"
   ]
  },
  {
   "cell_type": "code",
   "execution_count": null,
   "metadata": {},
   "outputs": [],
   "source": []
  }
 ],
 "metadata": {
  "kernelspec": {
   "display_name": "Julia 1.4.2",
   "language": "julia",
   "name": "julia-1.4"
  },
  "language_info": {
   "file_extension": ".jl",
   "mimetype": "application/julia",
   "name": "julia",
   "version": "1.4.2"
  }
 },
 "nbformat": 4,
 "nbformat_minor": 4
}
