{
 "cells": [
  {
   "cell_type": "code",
   "execution_count": 93,
   "metadata": {},
   "outputs": [
    {
     "data": {
      "text/plain": [
       "wronskian (generic function with 1 method)"
      ]
     },
     "execution_count": 93,
     "metadata": {},
     "output_type": "execute_result"
    }
   ],
   "source": [
    "include(\"wronskian.jl\")"
   ]
  },
  {
   "cell_type": "code",
   "execution_count": 10,
   "metadata": {},
   "outputs": [
    {
     "data": {
      "text/html": [
       "($\\text{Multivariate Polynomial Ring in 3 variables:} [x, y, z]\\text{ over }\\text{Integer Ring}$, [$x$, $y$, $z$])"
      ],
      "text/plain": [
       "(Multivariate Polynomial Ring in x, y, z over Integer Ring, fmpz_mpoly[x, y, z])"
      ]
     },
     "execution_count": 10,
     "metadata": {},
     "output_type": "execute_result"
    }
   ],
   "source": [
    "R, (x,y,z)=PolynomialRing(ZZ, [\"x\", \"y\", \"z\"]; ordering=:lex)"
   ]
  },
  {
   "cell_type": "code",
   "execution_count": 11,
   "metadata": {},
   "outputs": [
    {
     "data": {
      "text/plain": [
       "Builder for a polynomial in Multivariate Polynomial Ring in x, y, z over Integer Ring"
      ]
     },
     "execution_count": 11,
     "metadata": {},
     "output_type": "execute_result"
    }
   ],
   "source": [
    "p = MPolyBuildCtx(R)"
   ]
  },
  {
   "cell_type": "code",
   "execution_count": 12,
   "metadata": {},
   "outputs": [
    {
     "data": {
      "text/plain": [
       "Builder for a polynomial in Multivariate Polynomial Ring in x, y, z over Integer Ring"
      ]
     },
     "execution_count": 12,
     "metadata": {},
     "output_type": "execute_result"
    }
   ],
   "source": [
    "push_term!(p,ZZ(3), [1,2,0])"
   ]
  },
  {
   "cell_type": "code",
   "execution_count": 13,
   "metadata": {},
   "outputs": [
    {
     "data": {
      "text/plain": [
       "Builder for a polynomial in Multivariate Polynomial Ring in x, y, z over Integer Ring"
      ]
     },
     "execution_count": 13,
     "metadata": {},
     "output_type": "execute_result"
    }
   ],
   "source": [
    "push_term!(p,ZZ(2), [1,1,1])"
   ]
  },
  {
   "cell_type": "code",
   "execution_count": 14,
   "metadata": {},
   "outputs": [
    {
     "data": {
      "text/plain": [
       "Builder for a polynomial in Multivariate Polynomial Ring in x, y, z over Integer Ring"
      ]
     },
     "execution_count": 14,
     "metadata": {},
     "output_type": "execute_result"
    }
   ],
   "source": [
    "push_term!(p,ZZ(1), [1,0,0])"
   ]
  },
  {
   "cell_type": "code",
   "execution_count": 15,
   "metadata": {},
   "outputs": [
    {
     "data": {
      "text/plain": [
       "Builder for a polynomial in Multivariate Polynomial Ring in x, y, z over Integer Ring"
      ]
     },
     "execution_count": 15,
     "metadata": {},
     "output_type": "execute_result"
    }
   ],
   "source": [
    "push_term!(p,ZZ(5), [0,0,0])"
   ]
  },
  {
   "cell_type": "code",
   "execution_count": 16,
   "metadata": {},
   "outputs": [
    {
     "data": {
      "text/html": [
       "$3xy^{2}+2xyz+x+5$"
      ],
      "text/latex": [
       "$3xy^{2}+2xyz+x+5$"
      ],
      "text/plain": [
       "3*x*y^2+2*x*y*z+x+5"
      ]
     },
     "execution_count": 16,
     "metadata": {},
     "output_type": "execute_result"
    }
   ],
   "source": [
    "finish(p)"
   ]
  },
  {
   "cell_type": "code",
   "execution_count": 18,
   "metadata": {},
   "outputs": [
    {
     "ename": "LoadError",
     "evalue": "UndefVarError: MyMPoly not defined",
     "output_type": "error",
     "traceback": [
      "UndefVarError: MyMPoly not defined",
      "",
      "Stacktrace:",
      " [1] top-level scope at In[18]:1",
      " [2] include_string(::Function, ::Module, ::String, ::String) at ./loading.jl:1091"
     ]
    }
   ],
   "source": [
    "terms(p::MyMPoly{T}) where T <: AbstractAlgebra.RingElem"
   ]
  },
  {
   "cell_type": "code",
   "execution_count": 20,
   "metadata": {},
   "outputs": [
    {
     "data": {
      "text/html": [
       "$2x^{2}y+y^{2}+5$"
      ],
      "text/latex": [
       "$2x^{2}y+y^{2}+5$"
      ],
      "text/plain": [
       "2*x^2*y+y^2+5"
      ]
     },
     "execution_count": 20,
     "metadata": {},
     "output_type": "execute_result"
    }
   ],
   "source": [
    "f= 2x^2 * y + y^2+5"
   ]
  },
  {
   "cell_type": "code",
   "execution_count": 22,
   "metadata": {},
   "outputs": [
    {
     "data": {
      "text/html": [
       "[$2x^{2}y$, $y^{2}$, $5$]"
      ],
      "text/plain": [
       "3-element Array{fmpz_mpoly,1}:\n",
       " 2*x^2*y\n",
       " y^2\n",
       " 5"
      ]
     },
     "execution_count": 22,
     "metadata": {},
     "output_type": "execute_result"
    }
   ],
   "source": [
    "collect(terms(f))"
   ]
  },
  {
   "cell_type": "code",
   "execution_count": 23,
   "metadata": {},
   "outputs": [
    {
     "data": {
      "text/html": [
       "[$x^{2}y$, $y^{2}$, $1$]"
      ],
      "text/plain": [
       "3-element Array{fmpz_mpoly,1}:\n",
       " x^2*y\n",
       " y^2\n",
       " 1"
      ]
     },
     "execution_count": 23,
     "metadata": {},
     "output_type": "execute_result"
    }
   ],
   "source": [
    "collect(monomials(f))"
   ]
  },
  {
   "cell_type": "code",
   "execution_count": 24,
   "metadata": {},
   "outputs": [
    {
     "data": {
      "text/html": [
       "($\\text{Multivariate Polynomial Ring in 3 variables:} [a, b, c]\\text{ over }\\text{Multivariate Polynomial Ring in 3 variables:} [x, y, z]\\text{ over }\\text{Integer Ring}$, [$a$, $b$, $c$])"
      ],
      "text/plain": [
       "(Multivariate Polynomial Ring in a, b, c over Multivariate Polynomial Ring in x, y, z over Integer Ring, AbstractAlgebra.Generic.MPoly{fmpz_mpoly}[a, b, c])"
      ]
     },
     "execution_count": 24,
     "metadata": {},
     "output_type": "execute_result"
    }
   ],
   "source": [
    "S, (a,b,c)=PolynomialRing(R,[\"a\", \"b\", \"c\"];ordering =:lex)"
   ]
  },
  {
   "cell_type": "code",
   "execution_count": 32,
   "metadata": {},
   "outputs": [
    {
     "data": {
      "text/html": [
       "$x^{2}a+3yz^{2}b^{2}+c^{3}+(x^{2}+4)$"
      ],
      "text/latex": [
       "$x^{2}a+3yz^{2}b^{2}+c^{3}+(x^{2}+4)$"
      ],
      "text/plain": [
       "x^2*a+3*y*z^2*b^2+c^3+(x^2+4)"
      ]
     },
     "execution_count": 32,
     "metadata": {},
     "output_type": "execute_result"
    }
   ],
   "source": [
    "h= a*x^2+3*b^2*y*z^2+4+c^3 +x^2"
   ]
  },
  {
   "cell_type": "code",
   "execution_count": 30,
   "metadata": {},
   "outputs": [
    {
     "data": {
      "text/html": [
       "[$a$, $b^{2}$, $c^{3}$, $1$]"
      ],
      "text/plain": [
       "4-element Array{AbstractAlgebra.Generic.MPoly{fmpz_mpoly},1}:\n",
       " a\n",
       " b^2\n",
       " c^3\n",
       " 1"
      ]
     },
     "execution_count": 30,
     "metadata": {},
     "output_type": "execute_result"
    }
   ],
   "source": [
    "collect(monomials(h))"
   ]
  },
  {
   "cell_type": "code",
   "execution_count": 36,
   "metadata": {},
   "outputs": [
    {
     "data": {
      "text/html": [
       "[[$x^{2}$], [$3yz^{2}$], [$1$], [$x^{2}+4$]]"
      ],
      "text/plain": [
       "4-element Array{Array{Any,1},1}:\n",
       " [x^2]\n",
       " [3*y*z^2]\n",
       " [1]\n",
       " [x^2+4]"
      ]
     },
     "execution_count": 36,
     "metadata": {},
     "output_type": "execute_result"
    }
   ],
   "source": [
    "map((x)->collect(coefficients(x)),collect(terms(h)))"
   ]
  },
  {
   "cell_type": "code",
   "execution_count": 37,
   "metadata": {},
   "outputs": [
    {
     "data": {
      "text/html": [
       "($\\text{Multivariate Polynomial Ring in 3 variables:} [p1, p2, p3]\\text{ over }\\text{Rational Field}$, [$p1$, $p2$, $p3$])"
      ],
      "text/plain": [
       "(Multivariate Polynomial Ring in p1, p2, p3 over Rational Field, fmpq_mpoly[p1, p2, p3])"
      ]
     },
     "execution_count": 37,
     "metadata": {},
     "output_type": "execute_result"
    }
   ],
   "source": [
    "V, (p1, p2, p3) = PolynomialRing(QQ,[\"p1\", \"p2\", \"p3\"];ordering =:lex)"
   ]
  },
  {
   "cell_type": "code",
   "execution_count": 38,
   "metadata": {},
   "outputs": [
    {
     "data": {
      "text/html": [
       "($\\text{Multivariate Polynomial Ring in 5 variables:} [x0, x1, x2, u0, u1]\\text{ over }\\text{Multivariate Polynomial Ring in 3 variables:} [p1, p2, p3]\\text{ over }\\text{Rational Field}$, [$x0$, $x1$, $x2$, $u0$, $u1$])"
      ],
      "text/plain": [
       "(Multivariate Polynomial Ring in x0, x1, x2, u0, u1 over Multivariate Polynomial Ring in p1, p2, p3 over Rational Field, AbstractAlgebra.Generic.MPoly{fmpq_mpoly}[x0, x1, x2, u0, u1])"
      ]
     },
     "execution_count": 38,
     "metadata": {},
     "output_type": "execute_result"
    }
   ],
   "source": [
    "T, (x0,x1,x2,u0,u1)=PolynomialRing(V,[\"x0\", \"x1\", \"x2\",\"u0\", \"u1\"];ordering =:lex)"
   ]
  },
  {
   "cell_type": "code",
   "execution_count": 41,
   "metadata": {},
   "outputs": [
    {
     "data": {
      "text/html": [
       "$(2p1 + 2p3^{2})x0^{2}x1+(6p1^{2} + 2p2)x2^{2}+3x2u0$"
      ],
      "text/latex": [
       "$(2p1 + 2p3^{2})x0^{2}x1+(6p1^{2} + 2p2)x2^{2}+3x2u0$"
      ],
      "text/plain": [
       "(2*p1 + 2*p3^2)*x0^2*x1+(6*p1^2 + 2*p2)*x2^2+3*x2*u0"
      ]
     },
     "execution_count": 41,
     "metadata": {},
     "output_type": "execute_result"
    }
   ],
   "source": [
    "poly = 2 *(p3^2+p1)*x0^2*x1 + 3*x2*u0 + 2*(p2 +3*p1^2)*x2^2"
   ]
  },
  {
   "cell_type": "code",
   "execution_count": 75,
   "metadata": {},
   "outputs": [
    {
     "data": {
      "text/html": [
       "[$2$, $2$]"
      ],
      "text/plain": [
       "2-element Array{Any,1}:\n",
       " 2\n",
       " 2"
      ]
     },
     "execution_count": 75,
     "metadata": {},
     "output_type": "execute_result"
    }
   ],
   "source": [
    "coef=map((x)->collect(coefficients(x)),collect(coefficients(poly)))[1]"
   ]
  },
  {
   "cell_type": "code",
   "execution_count": 64,
   "metadata": {},
   "outputs": [
    {
     "data": {
      "text/html": [
       "[$x0^{2}x1$, $x2^{2}$, $x2u0$]"
      ],
      "text/plain": [
       "3-element Array{AbstractAlgebra.Generic.MPoly{fmpq_mpoly},1}:\n",
       " x0^2*x1\n",
       " x2^2\n",
       " x2*u0"
      ]
     },
     "execution_count": 64,
     "metadata": {},
     "output_type": "execute_result"
    }
   ],
   "source": [
    "collect(monomials(poly))"
   ]
  },
  {
   "cell_type": "code",
   "execution_count": 62,
   "metadata": {},
   "outputs": [
    {
     "ename": "LoadError",
     "evalue": "MethodError: no method matching gcd(::Array{Any,1})\nClosest candidates are:\n  gcd(!Matched::fmpz_poly, !Matched::fmpz_poly) at /home/goodbrake/.julia/packages/Nemo/vCIJx/src/flint/fmpz_poly.jl:445\n  gcd(!Matched::fmpz, !Matched::fmpz) at /home/goodbrake/.julia/packages/Nemo/vCIJx/src/flint/fmpz.jl:849\n  gcd(!Matched::fmpz, !Matched::Integer) at /home/goodbrake/.julia/packages/Nemo/vCIJx/src/flint/fmpz.jl:920\n  ...",
     "output_type": "error",
     "traceback": [
      "MethodError: no method matching gcd(::Array{Any,1})\nClosest candidates are:\n  gcd(!Matched::fmpz_poly, !Matched::fmpz_poly) at /home/goodbrake/.julia/packages/Nemo/vCIJx/src/flint/fmpz_poly.jl:445\n  gcd(!Matched::fmpz, !Matched::fmpz) at /home/goodbrake/.julia/packages/Nemo/vCIJx/src/flint/fmpz.jl:849\n  gcd(!Matched::fmpz, !Matched::Integer) at /home/goodbrake/.julia/packages/Nemo/vCIJx/src/flint/fmpz.jl:920\n  ...",
      "",
      "Stacktrace:",
      " [1] top-level scope at In[62]:1",
      " [2] include_string(::Function, ::Module, ::String, ::String) at ./loading.jl:1091"
     ]
    }
   ],
   "source": [
    "Colleccollect(coefficients(poly))[1]"
   ]
  },
  {
   "cell_type": "code",
   "execution_count": 79,
   "metadata": {},
   "outputs": [
    {
     "data": {
      "text/html": [
       "$3$"
      ],
      "text/plain": [
       "3"
      ]
     },
     "execution_count": 79,
     "metadata": {},
     "output_type": "execute_result"
    }
   ],
   "source": [
    "gcd([15,75,9])"
   ]
  },
  {
   "cell_type": "code",
   "execution_count": 81,
   "metadata": {},
   "outputs": [
    {
     "data": {
      "text/html": [
       "$2$"
      ],
      "text/plain": [
       "2"
      ]
     },
     "execution_count": 81,
     "metadata": {},
     "output_type": "execute_result"
    }
   ],
   "source": [
    "reduce(gcd,coef)"
   ]
  },
  {
   "cell_type": "code",
   "execution_count": 80,
   "metadata": {},
   "outputs": [
    {
     "ename": "LoadError",
     "evalue": "syntax: extra token \"gcd\" after end of expression",
     "output_type": "error",
     "traceback": [
      "syntax: extra token \"gcd\" after end of expression",
      "",
      "Stacktrace:",
      " [1] top-level scope at In[80]:1",
      " [2] include_string(::Function, ::Module, ::String, ::String) at ./loading.jl:1091"
     ]
    }
   ],
   "source": [
    "help gcd"
   ]
  },
  {
   "cell_type": "code",
   "execution_count": 85,
   "metadata": {},
   "outputs": [
    {
     "data": {
      "text/html": [
       "$p1 + p3^{2}$"
      ],
      "text/latex": [
       "$p1 + p3^{2}$"
      ],
      "text/plain": [
       "p1 + p3^2"
      ]
     },
     "execution_count": 85,
     "metadata": {},
     "output_type": "execute_result"
    }
   ],
   "source": [
    "collect(coefficients(poly))[1]//2"
   ]
  },
  {
   "cell_type": "code",
   "execution_count": 87,
   "metadata": {},
   "outputs": [
    {
     "data": {
      "text/html": [
       "[$2p1 + 2p3^{2}$, $6p1^{2} + 2p2$, $3$]"
      ],
      "text/plain": [
       "3-element Array{Any,1}:\n",
       " 2*p1 + 2*p3^2\n",
       " 6*p1^2 + 2*p2\n",
       " 3"
      ]
     },
     "execution_count": 87,
     "metadata": {},
     "output_type": "execute_result"
    }
   ],
   "source": [
    "coeffs = collect(coefficients(poly))"
   ]
  },
  {
   "cell_type": "code",
   "execution_count": 88,
   "metadata": {},
   "outputs": [
    {
     "data": {
      "text/html": [
       "[[$2$, $2$], [$6$, $2$], [$3$]]"
      ],
      "text/plain": [
       "3-element Array{Array{Any,1},1}:\n",
       " [2, 2]\n",
       " [6, 2]\n",
       " [3]"
      ]
     },
     "execution_count": 88,
     "metadata": {},
     "output_type": "execute_result"
    }
   ],
   "source": [
    "consts = map((x)->collect(coefficients(x)),coeffs)"
   ]
  },
  {
   "cell_type": "code",
   "execution_count": 89,
   "metadata": {},
   "outputs": [
    {
     "data": {
      "text/html": [
       "[$2$, $2$, $3$]"
      ],
      "text/plain": [
       "3-element Array{fmpq,1}:\n",
       " 2\n",
       " 2\n",
       " 3"
      ]
     },
     "execution_count": 89,
     "metadata": {},
     "output_type": "execute_result"
    }
   ],
   "source": [
    "gcds = map((x)->reduce(gcd,x),consts)"
   ]
  },
  {
   "cell_type": "code",
   "execution_count": 90,
   "metadata": {},
   "outputs": [
    {
     "data": {
      "text/html": [
       "[$p1 + p3^{2}$, $3p1^{2} + p2$, $1$]"
      ],
      "text/plain": [
       "3-element Array{fmpq_mpoly,1}:\n",
       " p1 + p3^2\n",
       " 3*p1^2 + p2\n",
       " 1"
      ]
     },
     "execution_count": 90,
     "metadata": {},
     "output_type": "execute_result"
    }
   ],
   "source": [
    "coeffs.//gcds"
   ]
  },
  {
   "cell_type": "code",
   "execution_count": 92,
   "metadata": {},
   "outputs": [
    {
     "data": {
      "text/html": [
       "[$2x0^{2}x1$, $2x2^{2}$, $3x2u0$]"
      ],
      "text/plain": [
       "3-element Array{AbstractAlgebra.Generic.MPoly{fmpq_mpoly},1}:\n",
       " 2*x0^2*x1\n",
       " 2*x2^2\n",
       " 3*x2*u0"
      ]
     },
     "execution_count": 92,
     "metadata": {},
     "output_type": "execute_result"
    }
   ],
   "source": [
    "collect(monomials(poly)).*gcds"
   ]
  },
  {
   "cell_type": "code",
   "execution_count": 94,
   "metadata": {},
   "outputs": [
    {
     "ename": "LoadError",
     "evalue": "MethodError: objects of type Array{Any,1} are not callable\nUse square brackets [] for indexing an Array.",
     "output_type": "error",
     "traceback": [
      "MethodError: objects of type Array{Any,1} are not callable\nUse square brackets [] for indexing an Array.",
      "",
      "Stacktrace:",
      " [1] parent_ring_change(::fmpq_mpoly, ::FmpqMPolyRing) at /home/goodbrake/EliminationODE/util.jl:82",
      " [2] generate_io_equation_problem(::ODE, ::fmpq_mpoly) at /home/goodbrake/EliminationODE/io_equation.jl:62",
      " [3] find_ioequation(::ODE, ::fmpq_mpoly, ::Bool) at /home/goodbrake/EliminationODE/io_equation.jl:103",
      " [4] find_ioequation(::ODE, ::fmpq_mpoly) at /home/goodbrake/EliminationODE/io_equation.jl:96",
      " [5] top-level scope at ./timing.jl:174 [inlined]",
      " [6] top-level scope at ./In[94]:0",
      " [7] include_string(::Function, ::Module, ::String, ::String) at ./loading.jl:1091"
     ]
    }
   ],
   "source": [
    "logger = Logging.SimpleLogger(stdout, Logging.Debug)\n",
    "global_logger(logger)\n",
    "\n",
    "var_names = [\n",
    "    \"x_0\", \"x_1\", \"x_2\", \"x_3\",\n",
    "    \"a\", \"bi\", \"bw\", \"gam\", \"mu\", \"xi\", \"k\"\n",
    "]\n",
    "R, (x_0, x_1, x_2, x_3, a, bi, bw, gam, mu, xi, k) = PolynomialRing(QQ, var_names)\n",
    "\n",
    "ode = ODE(\n",
    "    Dict(\n",
    "        x_0 => mu - bi * x_0 * x_1 - bw * x_0 * x_2 - mu * x_0 + a * x_3,\n",
    "        x_1 => bw * x_0 * x_2 + bi * x_0 * x_1 - (gam + mu) * x_1,\n",
    "        x_2 => xi * (x_1 - x_2),\n",
    "        x_3 => gam * x_1 - (mu + a) * x_3\n",
    "    ),\n",
    "    []\n",
    ")\n",
    "\n",
    "@time io_equation = find_ioequation(ode, k * x_1);"
   ]
  },
  {
   "cell_type": "code",
   "execution_count": 106,
   "metadata": {},
   "outputs": [
    {
     "data": {
      "text/html": [
       "($\\text{Multivariate Polynomial Ring in 7 variables:} [a, bi, bw, gam, mu, xi, k]\\text{ over }\\text{Rational Field}$, [$a$, $bi$, $bw$, $gam$, $mu$, $xi$, $k$])"
      ],
      "text/plain": [
       "(Multivariate Polynomial Ring in 7 variables a, bi, bw, gam, ..., k over Rational Field, fmpq_mpoly[a, bi, bw, gam, mu, xi, k])"
      ]
     },
     "execution_count": 106,
     "metadata": {},
     "output_type": "execute_result"
    }
   ],
   "source": [
    "PolynomialRing(QQ,map((x)->string(x),ode.parameters))"
   ]
  },
  {
   "cell_type": "code",
   "execution_count": 96,
   "metadata": {},
   "outputs": [
    {
     "ename": "LoadError",
     "evalue": "MethodError: objects of type Array{Any,1} are not callable\nUse square brackets [] for indexing an Array.",
     "output_type": "error",
     "traceback": [
      "MethodError: objects of type Array{Any,1} are not callable\nUse square brackets [] for indexing an Array.",
      "",
      "Stacktrace:",
      " [1] parent_ring_change(::fmpq_mpoly, ::FmpqMPolyRing) at /home/goodbrake/EliminationODE/util.jl:82",
      " [2] generate_io_equation_problem(::ODE, ::fmpq_mpoly) at /home/goodbrake/EliminationODE/io_equation.jl:62",
      " [3] find_ioequation(::ODE, ::fmpq_mpoly, ::Bool) at /home/goodbrake/EliminationODE/io_equation.jl:103",
      " [4] find_ioequation(::ODE, ::fmpq_mpoly) at /home/goodbrake/EliminationODE/io_equation.jl:96",
      " [5] top-level scope at In[96]:1",
      " [6] include_string(::Function, ::Module, ::String, ::String) at ./loading.jl:1091"
     ]
    }
   ],
   "source": [
    "ioeq=find_ioequation(ode,k*x_1);"
   ]
  },
  {
   "cell_type": "code",
   "execution_count": 97,
   "metadata": {},
   "outputs": [
    {
     "data": {
      "text/html": [
       "$(2p1 + 2p3^{2})x0^{2}x1+(6p1^{2} + 2p2)x2^{2}+3x2u0$"
      ],
      "text/latex": [
       "$(2p1 + 2p3^{2})x0^{2}x1+(6p1^{2} + 2p2)x2^{2}+3x2u0$"
      ],
      "text/plain": [
       "(2*p1 + 2*p3^2)*x0^2*x1+(6*p1^2 + 2*p2)*x2^2+3*x2*u0"
      ]
     },
     "execution_count": 97,
     "metadata": {},
     "output_type": "execute_result"
    }
   ],
   "source": [
    "poly"
   ]
  },
  {
   "cell_type": "code",
   "execution_count": 98,
   "metadata": {},
   "outputs": [
    {
     "data": {
      "text/html": [
       "$\\text{Multivariate Polynomial Ring in 5 variables:} [x0, x1, x2, u0, u1]\\text{ over }\\text{Multivariate Polynomial Ring in 3 variables:} [p1, p2, p3]\\text{ over }\\text{Rational Field}$"
      ],
      "text/latex": [
       "$\\text{Multivariate Polynomial Ring in 5 variables:} [x0, x1, x2, u0, u1]\\text{ over }\\text{Multivariate Polynomial Ring in 3 variables:} [p1, p2, p3]\\text{ over }\\text{Rational Field}$"
      ],
      "text/plain": [
       "Multivariate Polynomial Ring in x0, x1, x2, u0, u1 over Multivariate Polynomial Ring in p1, p2, p3 over Rational Field"
      ]
     },
     "execution_count": 98,
     "metadata": {},
     "output_type": "execute_result"
    }
   ],
   "source": [
    "T"
   ]
  },
  {
   "cell_type": "code",
   "execution_count": 99,
   "metadata": {},
   "outputs": [
    {
     "data": {
      "text/html": [
       "($\\text{Multivariate Polynomial Ring in 8 variables:} [x0, x1, x2, u0, u1, p1, p2, p3]\\text{ over }\\text{Rational Field}$, [$x0$, $x1$, $x2$, $u0$, $u1$, $p1$, $p2$, $p3$])"
      ],
      "text/plain": [
       "(Multivariate Polynomial Ring in 8 variables x0, x1, x2, u0, ..., p3 over Rational Field, fmpq_mpoly[x0, x1, x2, u0, u1, p1, p2, p3])"
      ]
     },
     "execution_count": 99,
     "metadata": {},
     "output_type": "execute_result"
    }
   ],
   "source": [
    "X, (x0,x1,x2,u0,u1,p1,p2,p3) = PolynomialRing(QQ,[\"x0\",\"x1\",\"x2\",\"u0\",\"u1\",\"p1\",\"p2\",\"p3\"])"
   ]
  },
  {
   "cell_type": "code",
   "execution_count": 100,
   "metadata": {},
   "outputs": [
    {
     "data": {
      "text/html": [
       "[$2p1 + 2p3^{2}$, $6p1^{2} + 2p2$, $3$]"
      ],
      "text/plain": [
       "3-element Array{Any,1}:\n",
       " 2*p1 + 2*p3^2\n",
       " 6*p1^2 + 2*p2\n",
       " 3"
      ]
     },
     "execution_count": 100,
     "metadata": {},
     "output_type": "execute_result"
    }
   ],
   "source": [
    "collect(coefficients(poly))"
   ]
  },
  {
   "cell_type": "code",
   "execution_count": 112,
   "metadata": {},
   "outputs": [
    {
     "data": {
      "text/html": [
       "[$x_0$, $x_1$, $x_3$, $x_2$]"
      ],
      "text/plain": [
       "4-element Array{Any,1}:\n",
       " x_0\n",
       " x_1\n",
       " x_3\n",
       " x_2"
      ]
     },
     "execution_count": 112,
     "metadata": {},
     "output_type": "execute_result"
    }
   ],
   "source": [
    "vcat(ode.x_vars,ode.u_vars)"
   ]
  },
  {
   "cell_type": "code",
   "execution_count": 110,
   "metadata": {},
   "outputs": [
    {
     "data": {
      "text/html": [
       "[]"
      ],
      "text/plain": [
       "Any[]"
      ]
     },
     "execution_count": 110,
     "metadata": {},
     "output_type": "execute_result"
    }
   ],
   "source": [
    "ode.u_vars"
   ]
  },
  {
   "cell_type": "code",
   "execution_count": 113,
   "metadata": {},
   "outputs": [
    {
     "ename": "LoadError",
     "evalue": "MethodError: no method matching parent(::ODE)\nClosest candidates are:\n  parent(!Matched::Nemo.fmpz_mod) at /home/goodbrake/.julia/packages/Nemo/vCIJx/src/flint/fmpz_mod.jl:21\n  parent(!Matched::fmpz) at /home/goodbrake/.julia/packages/Nemo/vCIJx/src/flint/fmpz.jl:59\n  parent(!Matched::Nemo.gfp_fmpz_elem) at /home/goodbrake/.julia/packages/Nemo/vCIJx/src/flint/gfp_fmpz_elem.jl:21\n  ...",
     "output_type": "error",
     "traceback": [
      "MethodError: no method matching parent(::ODE)\nClosest candidates are:\n  parent(!Matched::Nemo.fmpz_mod) at /home/goodbrake/.julia/packages/Nemo/vCIJx/src/flint/fmpz_mod.jl:21\n  parent(!Matched::fmpz) at /home/goodbrake/.julia/packages/Nemo/vCIJx/src/flint/fmpz.jl:59\n  parent(!Matched::Nemo.gfp_fmpz_elem) at /home/goodbrake/.julia/packages/Nemo/vCIJx/src/flint/gfp_fmpz_elem.jl:21\n  ...",
      "",
      "Stacktrace:",
      " [1] top-level scope at In[113]:1",
      " [2] include_string(::Function, ::Module, ::String, ::String) at ./loading.jl:1091"
     ]
    }
   ],
   "source": [
    "parent(ode)"
   ]
  },
  {
   "cell_type": "code",
   "execution_count": 119,
   "metadata": {},
   "outputs": [
    {
     "data": {
      "text/html": [
       "($\\text{Multivariate Polynomial Ring in 2 variables:} [y1, y2]\\text{ over }\\text{Rational Field}$, [$y1$, $y2$])"
      ],
      "text/plain": [
       "(Multivariate Polynomial Ring in y1, y2 over Rational Field, fmpq_mpoly[y1, y2])"
      ]
     },
     "execution_count": 119,
     "metadata": {},
     "output_type": "execute_result"
    }
   ],
   "source": [
    "PolynomialRing(base_ring(ode.poly_ring),[\"y1\",\"y2\"])"
   ]
  },
  {
   "cell_type": "code",
   "execution_count": 122,
   "metadata": {},
   "outputs": [
    {
     "ename": "LoadError",
     "evalue": "MethodError: no method matching gens(::Tuple{FmpzMPolyRing,Array{fmpz_mpoly,1}})\nClosest candidates are:\n  gens(!Matched::NfAbsNS) at /home/goodbrake/.julia/packages/Hecke/6PAT0/src/NumField/NfAbs/NonSimple.jl:1038\n  gens(!Matched::FmpqMPolyRing) at /home/goodbrake/.julia/packages/Nemo/vCIJx/src/flint/fmpq_mpoly.jl:47\n  gens(!Matched::FmpzMPolyRing) at /home/goodbrake/.julia/packages/Nemo/vCIJx/src/flint/fmpz_mpoly.jl:42\n  ...",
     "output_type": "error",
     "traceback": [
      "MethodError: no method matching gens(::Tuple{FmpzMPolyRing,Array{fmpz_mpoly,1}})\nClosest candidates are:\n  gens(!Matched::NfAbsNS) at /home/goodbrake/.julia/packages/Hecke/6PAT0/src/NumField/NfAbs/NonSimple.jl:1038\n  gens(!Matched::FmpqMPolyRing) at /home/goodbrake/.julia/packages/Nemo/vCIJx/src/flint/fmpq_mpoly.jl:47\n  gens(!Matched::FmpzMPolyRing) at /home/goodbrake/.julia/packages/Nemo/vCIJx/src/flint/fmpz_mpoly.jl:42\n  ...",
      "",
      "Stacktrace:",
      " [1] parent_ring_change(::AbstractAlgebra.Generic.MPoly{fmpq_mpoly}, ::Tuple{FmpzMPolyRing,Array{fmpz_mpoly,1}}) at /home/goodbrake/EliminationODE/util.jl:76",
      " [2] top-level scope at In[122]:1",
      " [3] include_string(::Function, ::Module, ::String, ::String) at ./loading.jl:1091"
     ]
    }
   ],
   "source": [
    "parent_ring_change(poly,PolynomialRing(ZZ,[\"x0\",\"x1\",\"x2\",\"u0\",\"u1\",\"p1\",\"p2\",\"p3\"]))"
   ]
  },
  {
   "cell_type": "code",
   "execution_count": 121,
   "metadata": {},
   "outputs": [
    {
     "data": {
      "text/plain": [
       "str_to_var (generic function with 1 method)"
      ]
     },
     "execution_count": 121,
     "metadata": {},
     "output_type": "execute_result"
    }
   ],
   "source": [
    "include(\"../util.jl\")"
   ]
  },
  {
   "cell_type": "code",
   "execution_count": 129,
   "metadata": {},
   "outputs": [
    {
     "ename": "LoadError",
     "evalue": "MethodError: objects of type Array{Any,1} are not callable\nUse square brackets [] for indexing an Array.",
     "output_type": "error",
     "traceback": [
      "MethodError: objects of type Array{Any,1} are not callable\nUse square brackets [] for indexing an Array.",
      "",
      "Stacktrace:",
      " [1] parent_ring_change(::AbstractAlgebra.Generic.MPoly{fmpq_mpoly}, ::FmpzMPolyRing) at /home/goodbrake/EliminationODE/util.jl:82",
      " [2] top-level scope at In[129]:1",
      " [3] include_string(::Function, ::Module, ::String, ::String) at ./loading.jl:1091"
     ]
    }
   ],
   "source": [
    "parent_ring_change(poly,P)"
   ]
  },
  {
   "cell_type": "code",
   "execution_count": 128,
   "metadata": {},
   "outputs": [
    {
     "data": {
      "text/html": [
       "($\\text{Multivariate Polynomial Ring in 8 variables:} [x0, x1, x2, u0, u1, p1, p2, p3]\\text{ over }\\text{Integer Ring}$, [$x0$, $x1$, $x2$, $u0$, $u1$, $p1$, $p2$, $p3$])"
      ],
      "text/plain": [
       "(Multivariate Polynomial Ring in 8 variables x0, x1, x2, u0, ..., p3 over Integer Ring, fmpz_mpoly[x0, x1, x2, u0, u1, p1, p2, p3])"
      ]
     },
     "execution_count": 128,
     "metadata": {},
     "output_type": "execute_result"
    }
   ],
   "source": [
    "P,varabls=PolynomialRing(ZZ,[\"x0\",\"x1\",\"x2\",\"u0\",\"u1\",\"p1\",\"p2\",\"p3\"])"
   ]
  },
  {
   "cell_type": "code",
   "execution_count": 130,
   "metadata": {},
   "outputs": [
    {
     "data": {
      "text/html": [
       "$\\text{Multivariate Polynomial Ring in 8 variables:} [x0, x1, x2, u0, u1, p1, p2, p3]\\text{ over }\\text{Integer Ring}$"
      ],
      "text/latex": [
       "$\\text{Multivariate Polynomial Ring in 8 variables:} [x0, x1, x2, u0, u1, p1, p2, p3]\\text{ over }\\text{Integer Ring}$"
      ],
      "text/plain": [
       "Multivariate Polynomial Ring in 8 variables x0, x1, x2, u0, ..., p3 over Integer Ring"
      ]
     },
     "execution_count": 130,
     "metadata": {},
     "output_type": "execute_result"
    }
   ],
   "source": [
    "P"
   ]
  },
  {
   "cell_type": "code",
   "execution_count": 132,
   "metadata": {},
   "outputs": [
    {
     "data": {
      "text/html": [
       "$\\text{Multivariate Polynomial Ring in 5 variables:} [x0, x1, x2, u0, u1]\\text{ over }\\text{Multivariate Polynomial Ring in 3 variables:} [p1, p2, p3]\\text{ over }\\text{Rational Field}$"
      ],
      "text/latex": [
       "$\\text{Multivariate Polynomial Ring in 5 variables:} [x0, x1, x2, u0, u1]\\text{ over }\\text{Multivariate Polynomial Ring in 3 variables:} [p1, p2, p3]\\text{ over }\\text{Rational Field}$"
      ],
      "text/plain": [
       "Multivariate Polynomial Ring in x0, x1, x2, u0, u1 over Multivariate Polynomial Ring in p1, p2, p3 over Rational Field"
      ]
     },
     "execution_count": 132,
     "metadata": {},
     "output_type": "execute_result"
    }
   ],
   "source": [
    "parent(poly)"
   ]
  },
  {
   "cell_type": "code",
   "execution_count": 133,
   "metadata": {},
   "outputs": [
    {
     "data": {
      "text/plain": [
       "ODE(Multivariate Polynomial Ring in 11 variables x_0, x_1, x_2, x_3, ..., k over Rational Field, fmpq_mpoly[x_0, x_1, x_3, x_2], Any[], fmpq_mpoly[a, bi, bw, gam, mu, xi, k], Dict{fmpq_mpoly,fmpq_mpoly}(x_0 => -x_0*x_1*bi - x_0*x_2*bw - x_0*mu + x_3*a + mu,x_1 => x_0*x_1*bi + x_0*x_2*bw - x_1*gam - x_1*mu,x_3 => x_1*gam - x_3*a - x_3*mu,x_2 => x_1*xi - x_2*xi))"
      ]
     },
     "execution_count": 133,
     "metadata": {},
     "output_type": "execute_result"
    }
   ],
   "source": [
    "ode"
   ]
  },
  {
   "cell_type": "code",
   "execution_count": null,
   "metadata": {},
   "outputs": [],
   "source": []
  }
 ],
 "metadata": {
  "kernelspec": {
   "display_name": "Julia 1.5.1",
   "language": "julia",
   "name": "julia-1.5"
  },
  "language_info": {
   "file_extension": ".jl",
   "mimetype": "application/julia",
   "name": "julia",
   "version": "1.5.1"
  }
 },
 "nbformat": 4,
 "nbformat_minor": 4
}
