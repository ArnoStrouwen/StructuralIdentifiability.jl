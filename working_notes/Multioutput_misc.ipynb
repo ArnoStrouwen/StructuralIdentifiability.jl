{
 "cells": [
  {
   "cell_type": "code",
   "execution_count": 1,
   "metadata": {},
   "outputs": [
    {
     "data": {
      "text/html": [
       "$\\require{action}$"
      ]
     },
     "metadata": {},
     "output_type": "display_data"
    },
    {
     "name": "stdout",
     "output_type": "stream",
     "text": [
      " -----    -----    -----      -      -----   \n",
      "|     |  |     |  |     |    | |    |     |  \n",
      "|     |  |        |         |   |   |     |  \n",
      "|     |   -----   |        |     |  |-----   \n",
      "|     |        |  |        |-----|  |   |    \n",
      "|     |  |     |  |     |  |     |  |    |   \n",
      " -----    -----    -----   -     -  -     -  \n",
      "\n",
      "...combining (and extending) GAP, Hecke, Nemo, Polymake and Singular\n",
      "Version\u001b[32m 0.3.0 \u001b[39m... \n",
      " ... which comes with absolutely no warranty whatsoever\n",
      "Type: '?Oscar' for more information\n",
      "(c) 2019-2020 by The Oscar Development Team\n"
     ]
    },
    {
     "data": {
      "text/plain": [
       "find_ioequation (generic function with 2 methods)"
      ]
     },
     "execution_count": 1,
     "metadata": {},
     "output_type": "execute_result"
    }
   ],
   "source": [
    "include(\"io_equation.jl\")"
   ]
  },
  {
   "cell_type": "markdown",
   "metadata": {},
   "source": [
    "**Example 1:** Just take predator-prey and make both variables to be outputs. Then it would be natural that the io-equations are the original equations after renaming x's to y's. And this is what happens."
   ]
  },
  {
   "cell_type": "code",
   "execution_count": 2,
   "metadata": {},
   "outputs": [
    {
     "name": "stdout",
     "output_type": "stream",
     "text": [
      "┌ Debug: \t Computing Lie derivatives 2020-09-12T22:51:34.024\n",
      "└ @ Main /home/gleb/code/EliminationODE/io_equation.jl:83\n",
      "┌ Debug: Current degrees of io-equations [(1, [1]), (2, [1])]\n",
      "└ @ Main /home/gleb/code/EliminationODE/io_equation.jl:123\n",
      "┌ Debug: Orders: [0, 0]\n",
      "└ @ Main /home/gleb/code/EliminationODE/io_equation.jl:124\n",
      "┌ Debug: Sizes: [2, 2]\n",
      "└ @ Main /home/gleb/code/EliminationODE/io_equation.jl:125\n",
      "┌ Debug: Scores: [(1, -1, 2, 1), (1, -1, 2, 2)]\n",
      "└ @ Main /home/gleb/code/EliminationODE/io_equation.jl:136\n",
      "┌ Debug: Prolonging output number 1\n",
      "└ @ Main /home/gleb/code/EliminationODE/io_equation.jl:139\n",
      "┌ Debug: \t Decreasing degree with linear combination 2020-09-12T22:51:36.442\n",
      "└ @ Main /home/gleb/code/EliminationODE/elimination.jl:237\n",
      "┌ Debug: \t Using GCD to eliminate extra factors 2020-09-12T22:51:37.105\n",
      "└ @ Main /home/gleb/code/EliminationODE/elimination.jl:317\n",
      "┌ Debug: Generating new point on the variety\n",
      "└ @ Main /home/gleb/code/EliminationODE/elimination.jl:170\n",
      "┌ Debug: Generating new point on the variety\n",
      "└ @ Main /home/gleb/code/EliminationODE/elimination.jl:170\n",
      "┌ Debug: \t Using GCD to eliminate extra factors 2020-09-12T22:51:37.698\n",
      "└ @ Main /home/gleb/code/EliminationODE/elimination.jl:317\n",
      "┌ Debug: Elimination of x1, 2 left; 2020-09-12T22:51:37.858\n",
      "└ @ Main /home/gleb/code/EliminationODE/io_equation.jl:153\n",
      "┌ Debug: \t Decreasing degree with linear combination 2020-09-12T22:51:37.885\n",
      "└ @ Main /home/gleb/code/EliminationODE/elimination.jl:243\n",
      "┌ Debug: \t Using GCD to eliminate extra factors 2020-09-12T22:51:37.885\n",
      "└ @ Main /home/gleb/code/EliminationODE/elimination.jl:317\n",
      "┌ Debug: \t Using GCD to eliminate extra factors 2020-09-12T22:51:37.885\n",
      "└ @ Main /home/gleb/code/EliminationODE/elimination.jl:317\n",
      "┌ Debug: \t Decreasing degree with linear combination 2020-09-12T22:51:37.885\n",
      "└ @ Main /home/gleb/code/EliminationODE/elimination.jl:237\n",
      "┌ Debug: \t Using GCD to eliminate extra factors 2020-09-12T22:51:37.886\n",
      "└ @ Main /home/gleb/code/EliminationODE/elimination.jl:317\n",
      "┌ Debug: Current degrees of io-equations [(1, [1]), (2, [1])]\n",
      "└ @ Main /home/gleb/code/EliminationODE/io_equation.jl:123\n",
      "┌ Debug: Orders: [1, 0]\n",
      "└ @ Main /home/gleb/code/EliminationODE/io_equation.jl:124\n",
      "┌ Debug: Sizes: [3, 2]\n",
      "└ @ Main /home/gleb/code/EliminationODE/io_equation.jl:125\n",
      "┌ Debug: Scores: [(1, -1, 3, 1), (1, -1, 2, 2)]\n",
      "└ @ Main /home/gleb/code/EliminationODE/io_equation.jl:136\n",
      "┌ Debug: Prolonging output number 2\n",
      "└ @ Main /home/gleb/code/EliminationODE/io_equation.jl:139\n",
      "┌ Debug: \t Decreasing degree with linear combination 2020-09-12T22:51:37.886\n",
      "└ @ Main /home/gleb/code/EliminationODE/elimination.jl:237\n",
      "┌ Debug: \t Using GCD to eliminate extra factors 2020-09-12T22:51:37.886\n",
      "└ @ Main /home/gleb/code/EliminationODE/elimination.jl:317\n",
      "┌ Debug: Elimination of x2, 1 left; 2020-09-12T22:51:37.886\n",
      "└ @ Main /home/gleb/code/EliminationODE/io_equation.jl:153\n",
      "┌ Debug: \t Decreasing degree with linear combination 2020-09-12T22:51:37.887\n",
      "└ @ Main /home/gleb/code/EliminationODE/elimination.jl:243\n",
      "┌ Debug: \t Using GCD to eliminate extra factors 2020-09-12T22:51:37.887\n",
      "└ @ Main /home/gleb/code/EliminationODE/elimination.jl:317\n",
      "┌ Debug: \t Decreasing degree with linear combination 2020-09-12T22:51:37.887\n",
      "└ @ Main /home/gleb/code/EliminationODE/elimination.jl:237\n",
      "┌ Debug: \t Using GCD to eliminate extra factors 2020-09-12T22:51:37.887\n",
      "└ @ Main /home/gleb/code/EliminationODE/elimination.jl:317\n",
      "  8.430232 seconds (20.16 M allocations: 1.045 GiB, 5.37% gc time)\n"
     ]
    },
    {
     "data": {
      "text/plain": [
       "2-element Array{Any,1}:\n",
       " -a*y1_0 + b*y1_0*y2_0 + y1_1\n",
       " c*y2_0 - d*y1_0*y2_0 + y2_1"
      ]
     },
     "execution_count": 2,
     "metadata": {},
     "output_type": "execute_result"
    }
   ],
   "source": [
    "logger = Logging.SimpleLogger(stdout, Logging.Debug)\n",
    "global_logger(logger)\n",
    "\n",
    "varnames = [\"x1\", \"x2\", \"a\", \"b\", \"c\", \"d\"]\n",
    "R, (x1, x2, a, b, c, d) = PolynomialRing(QQ, varnames)\n",
    "\n",
    "ode = ODE(\n",
    "    Dict(\n",
    "        x1 => a * x1 - b * x1 * x2,\n",
    "        x2 => -c * x2 + d * x1 * x2\n",
    "    ), []\n",
    ")\n",
    "\n",
    "@time io_equations = find_ioequation(ode, [x1, x2])"
   ]
  },
  {
   "cell_type": "markdown",
   "metadata": {},
   "source": [
    "**Example 2:** This example (aritificial) demonstrates the insufficiency of the generated io-equations for identifiability purposes."
   ]
  },
  {
   "cell_type": "code",
   "execution_count": 3,
   "metadata": {},
   "outputs": [
    {
     "name": "stdout",
     "output_type": "stream",
     "text": [
      "┌ Debug: \t Computing Lie derivatives 2020-09-12T22:53:38.936\n",
      "└ @ Main /home/gleb/code/EliminationODE/io_equation.jl:83\n",
      "┌ Debug: Current degrees of io-equations [(1, [2]), (2, [1])]\n",
      "└ @ Main /home/gleb/code/EliminationODE/io_equation.jl:123\n",
      "┌ Debug: Orders: [0, 0]\n",
      "└ @ Main /home/gleb/code/EliminationODE/io_equation.jl:124\n",
      "┌ Debug: Sizes: [3, 2]\n",
      "└ @ Main /home/gleb/code/EliminationODE/io_equation.jl:125\n",
      "┌ Debug: Scores: [(2, -1, 3, 1), (1, -1, 2, 2)]\n",
      "└ @ Main /home/gleb/code/EliminationODE/io_equation.jl:136\n",
      "┌ Debug: Prolonging output number 2\n",
      "└ @ Main /home/gleb/code/EliminationODE/io_equation.jl:139\n",
      "┌ Debug: \t Decreasing degree with linear combination 2020-09-12T22:53:38.996\n",
      "└ @ Main /home/gleb/code/EliminationODE/elimination.jl:243\n",
      "┌ Debug: \t Using GCD to eliminate extra factors 2020-09-12T22:53:38.996\n",
      "└ @ Main /home/gleb/code/EliminationODE/elimination.jl:317\n",
      "┌ Debug: Generating new point on the variety\n",
      "└ @ Main /home/gleb/code/EliminationODE/elimination.jl:170\n",
      "┌ Debug: Generating new point on the variety\n",
      "└ @ Main /home/gleb/code/EliminationODE/elimination.jl:170\n",
      "┌ Debug: \t Using GCD to eliminate extra factors 2020-09-12T22:53:39\n",
      "└ @ Main /home/gleb/code/EliminationODE/elimination.jl:317\n",
      "┌ Debug: Elimination of x2, 2 left; 2020-09-12T22:53:39\n",
      "└ @ Main /home/gleb/code/EliminationODE/io_equation.jl:153\n",
      "┌ Debug: \t Using GCD to eliminate extra factors 2020-09-12T22:53:39\n",
      "└ @ Main /home/gleb/code/EliminationODE/elimination.jl:317\n",
      "┌ Debug: \t Using GCD to eliminate extra factors 2020-09-12T22:53:39.001\n",
      "└ @ Main /home/gleb/code/EliminationODE/elimination.jl:317\n",
      "┌ Debug: \t Using GCD to eliminate extra factors 2020-09-12T22:53:39.001\n",
      "└ @ Main /home/gleb/code/EliminationODE/elimination.jl:317\n",
      "┌ Debug: Current degrees of io-equations [(1, [2]), (2, [2])]\n",
      "└ @ Main /home/gleb/code/EliminationODE/io_equation.jl:123\n",
      "┌ Debug: Orders: [0, 1]\n",
      "└ @ Main /home/gleb/code/EliminationODE/io_equation.jl:124\n",
      "┌ Debug: Sizes: [3, 4]\n",
      "└ @ Main /home/gleb/code/EliminationODE/io_equation.jl:125\n",
      "┌ Debug: Scores: [(2, -1, 3, 1), (2, -1, 4, 2)]\n",
      "└ @ Main /home/gleb/code/EliminationODE/io_equation.jl:136\n",
      "┌ Debug: Prolonging output number 1\n",
      "└ @ Main /home/gleb/code/EliminationODE/io_equation.jl:139\n",
      "┌ Debug: \t Decreasing degree with linear combination 2020-09-12T22:53:39.001\n",
      "└ @ Main /home/gleb/code/EliminationODE/elimination.jl:237\n",
      "┌ Debug: \t Using GCD to eliminate extra factors 2020-09-12T22:53:39.001\n",
      "└ @ Main /home/gleb/code/EliminationODE/elimination.jl:317\n",
      "┌ Debug: \t \t Size of extra factor: 2; 2020-09-12T22:53:39.002\n",
      "└ @ Main /home/gleb/code/EliminationODE/elimination.jl:325\n",
      "┌ Debug: \t \t It is x1^2 + 1\n",
      "└ @ Main /home/gleb/code/EliminationODE/elimination.jl:326\n",
      "┌ Debug: Elimination of x1, 1 left; 2020-09-12T22:53:39.005\n",
      "└ @ Main /home/gleb/code/EliminationODE/io_equation.jl:153\n",
      "┌ Debug: Calculating Bezout Matrix 2020-09-12T22:53:39.005\n",
      "└ @ Main /home/gleb/code/EliminationODE/elimination.jl:290\n",
      "┌ Debug: Simplifying Bezout Matrix 2020-09-12T22:53:39.117\n",
      "└ @ Main /home/gleb/code/EliminationODE/elimination.jl:294\n",
      "┌ Debug: \t Bezout matrix size: \n",
      "│  [2  1]\n",
      "│ [1  2]\n",
      "└ @ Main /home/gleb/code/EliminationODE/elimination.jl:306\n",
      "┌ Debug: \t Computing determinant 2020-09-12T22:53:39.639\n",
      "└ @ Main /home/gleb/code/EliminationODE/elimination.jl:307\n",
      "┌ Debug: Discarded: ((1,), (1,)); 2020-09-12T22:53:40.486\n",
      "└ @ Main /home/gleb/code/EliminationODE/elimination.jl:32\n",
      "┌ Debug: Discarded: ((1,), (2,)); 2020-09-12T22:53:40.534\n",
      "└ @ Main /home/gleb/code/EliminationODE/elimination.jl:32\n",
      "┌ Debug: Discarded: ((), ()); 2020-09-12T22:53:40.534\n",
      "└ @ Main /home/gleb/code/EliminationODE/elimination.jl:32\n",
      "┌ Debug: \t Using GCD to eliminate extra factors 2020-09-12T22:53:40.558\n",
      "└ @ Main /home/gleb/code/EliminationODE/elimination.jl:317\n",
      "┌ Debug: \t Decreasing degree with linear combination 2020-09-12T22:53:40.558\n",
      "└ @ Main /home/gleb/code/EliminationODE/elimination.jl:237\n",
      "┌ Debug: \t Using GCD to eliminate extra factors 2020-09-12T22:53:40.628\n",
      "└ @ Main /home/gleb/code/EliminationODE/elimination.jl:317\n",
      "  2.219324 seconds (4.44 M allocations: 219.974 MiB, 2.22% gc time)\n"
     ]
    },
    {
     "data": {
      "text/plain": [
       "2-element Array{Any,1}:\n",
       " b^2*y1_0^2 + b^2*y1_1^2 - 1\n",
       " -4*b^2*y1_0^2 - 4*y2_1^2 + 4"
      ]
     },
     "execution_count": 3,
     "metadata": {},
     "output_type": "execute_result"
    }
   ],
   "source": [
    "R, (x1, x2, b) = PolynomialRing(QQ, [\"x1\", \"x2\", \"b\"])\n",
    "\n",
    "ode = ODE(Dict(\n",
    "    x1 => (1 + x1^2) // 2,\n",
    "    x2 => (1 - x1^2) // (1 + x1^2)\n",
    "), [])\n",
    "\n",
    "@time io_equations = find_ioequation(ode, [2 * x1 // (b * (1 + x1^2)), x2])"
   ]
  },
  {
   "cell_type": "markdown",
   "metadata": {},
   "source": [
    "In these equations, $b$ always appears squared, so one might conclude that $b$ is only locally identifiable.\n",
    "\n",
    "*However*, direct computation shows that $b y_1' - y_2' = 0$ is a consequence of the system. Therefore, $b$ actually is identifiable. This is because the variety defined by these io-equations is not prime. Indeed:"
   ]
  },
  {
   "cell_type": "code",
   "execution_count": 4,
   "metadata": {},
   "outputs": [
    {
     "data": {
      "text/plain": [
       "4*b^2*y1_1^2 - 4*y2_1^2"
      ]
     },
     "execution_count": 4,
     "metadata": {},
     "output_type": "execute_result"
    }
   ],
   "source": [
    "4 * io_equations[1] + io_equations[2]"
   ]
  },
  {
   "cell_type": "markdown",
   "metadata": {},
   "source": [
    "This factors! And one of the factors is the above consequence.\n",
    "\n",
    "**Question:** Would the following help?\n",
    "* Consider a new variable $z = y_1' + y_2'$ \n",
    "* Use the io-equations to eliminate $y_1'$ and $y_2'$ from the above equation thus getting an equation in $z, y_1, y_2$, it will likely factor, we leave only the true factor\n",
    "* Considering its coefficients as well"
   ]
  },
  {
   "cell_type": "code",
   "execution_count": null,
   "metadata": {},
   "outputs": [],
   "source": []
  }
 ],
 "metadata": {
  "kernelspec": {
   "display_name": "Julia 1.5.2",
   "language": "julia",
   "name": "julia-1.5"
  },
  "language_info": {
   "file_extension": ".jl",
   "mimetype": "application/julia",
   "name": "julia",
   "version": "1.5.2"
  }
 },
 "nbformat": 4,
 "nbformat_minor": 4
}
