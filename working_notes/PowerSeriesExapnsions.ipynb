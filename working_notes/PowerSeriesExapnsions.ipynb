{
 "cells": [
  {
   "cell_type": "code",
   "execution_count": 11,
   "metadata": {},
   "outputs": [
    {
     "data": {
      "text/plain": [
       "@ODEmodel (macro with 1 method)"
      ]
     },
     "execution_count": 11,
     "metadata": {},
     "output_type": "execute_result"
    }
   ],
   "source": [
    "include(\"../src/ODE.jl\")"
   ]
  },
  {
   "cell_type": "code",
   "execution_count": 16,
   "metadata": {},
   "outputs": [
    {
     "name": "stdout",
     "output_type": "stream",
     "text": [
      "Summary of the model:\n",
      "State variables: I, R, W, S\n",
      "Parameter: bi, gam, mu, bw, k, xi, a\n",
      "Inputs: \n",
      "Outputs: y\n",
      "  8.459823 seconds (11.06 M allocations: 1021.696 MiB, 1.69% gc time)\n"
     ]
    },
    {
     "data": {
      "text/plain": [
       "Dict{AbstractAlgebra.Generic.MPoly{Nemo.gfp_elem},AbstractAlgebra.Generic.AbsSeries{Nemo.gfp_elem}} with 12 entries:\n",
       "  1*xi  => 1 + O(t^1000)\n",
       "  1*W   => 4 + 2147483644*t + 1073741877*t^2 + 357913825*t^3 + 268432209*t^4 + …\n",
       "  1*a   => 8 + O(t^1000)\n",
       "  1*R   => 9 + 2147483531*t + 1332*t^2 + 715820683*t^3 + 1073734262*t^4 + 12169…\n",
       "  1*S   => 8 + 2147483557*t + 2147482916*t^2 + 19691*t^3 + 1968527291*t^4 + 534…\n",
       "  1*bi  => 3 + O(t^1000)\n",
       "  1*y   => 5 + 520*t + 2147482172*t^2 + 715762364*t^3 + 1968566001*t^4 + 197858…\n",
       "  1*mu  => 6 + O(t^1000)\n",
       "  1*k   => 5 + O(t^1000)\n",
       "  1*gam => 10 + O(t^1000)\n",
       "  1*bw  => 3 + O(t^1000)\n",
       "  1*I   => 1 + 104*t + 2147483352*t^2 + 1431642661*t^3 + 1252706659*t^4 + 21137…"
      ]
     },
     "execution_count": 16,
     "metadata": {},
     "output_type": "execute_result"
    }
   ],
   "source": [
    "# SIWR Cholera model\n",
    "\n",
    "ode = @ODEmodel(\n",
    "    S'(t) = mu - bi * S(t) * I(t) - bw * S(t) * W(t) - mu * S(t) + a * R(t),\n",
    "    I'(t) = bw * S(t) * W(t) + bi * S(t) * I(t) - (gam + mu) * I(t),\n",
    "    W'(t) = xi * (I(t) - W(t)),\n",
    "    R'(t) = gam * I(t) - (mu + a) * R(t),\n",
    "    y(t) = k * I(t)\n",
    ")\n",
    "\n",
    "ode_red = reduce_ode_mod_p(ode, 2^31 - 1)\n",
    "\n",
    "@time ps = power_series_solution(\n",
    "    ode_red,\n",
    "    Dict(p => rand(1:10) for p in ode_red.parameters),\n",
    "    Dict(x => rand(1:10) for x in ode_red.x_vars),\n",
    "    Dict{typeof(ode_red.x_vars[1]), Array{Int64, 1}}(),\n",
    "    1000\n",
    ")"
   ]
  },
  {
   "cell_type": "code",
   "execution_count": 4,
   "metadata": {},
   "outputs": [
    {
     "name": "stdout",
     "output_type": "stream",
     "text": [
      "  6.987082 seconds (234.79 M allocations: 7.199 GiB, 12.32% gc time)\n"
     ]
    },
    {
     "data": {
      "text/plain": [
       "Dict{AbstractAlgebra.Generic.MPoly{Nemo.gfp_elem},AbstractAlgebra.Generic.AbsSeries{Nemo.gfp_elem}} with 4 entries:\n",
       "  x_1 => 1+(16)*t+(2021161044)*t^2+(1380174874)*t^3+(1242606661)*t^4+(704047998…\n",
       "  x_2 => 2+(1810623497)*t+(242947774)*t^2+(1856444455)*t^3+(1648496433)*t^4+(13…\n",
       "  x_3 => 5+(2147483644)*t+(905311750)*t^2+(1926695655)*t^3+(2129920847)*t^4+(76…\n",
       "  x_0 => 9+(2021161060)*t+(1943939708)*t^2+(1717904549)*t^3+(855243009)*t^4+(20…"
      ]
     },
     "execution_count": 4,
     "metadata": {},
     "output_type": "execute_result"
    }
   ],
   "source": [
    "# Pharm\n",
    "\n",
    "var_names = [\n",
    "    \"x_0\", \"x_1\", \"x_2\", \"x_3\",\n",
    "    \"a1\", \"a2\", \"b1\", \"b2\", \"kc\", \"ka\", \"n\"\n",
    "]\n",
    "\n",
    "R, (x_0, x_1, x_2, x_3, a1, a2, b1, b2, kc, ka, n) = PolynomialRing(F, var_names)\n",
    "\n",
    "ode = ODE(\n",
    "    Dict(\n",
    "        x_0 => a1 * (x_1 - x_0) - (ka * n * x_0) // (kc * ka + kc * x_2 + ka * x_0),\n",
    "        x_1 => a2 * (x_0 - x_1),\n",
    "        x_2 => b1 * (x_3 - x_2) - (kc * n * x_2) // (kc * ka + kc * x_2 + ka * x_0),\n",
    "        x_3 => b2 * (x_2 - x_3)\n",
    "    ),\n",
    "    []\n",
    ")\n",
    "\n",
    "params = [a1, a2, b1, b2, kc, ka, n]\n",
    "states = [x_0, x_1, x_2, x_3]\n",
    "\n",
    "@time ps = power_series_solution(\n",
    "    ode,\n",
    "    Dict(p => rand(1:10) for p in params),\n",
    "    Dict(x => rand(1:10) for x in states),\n",
    "    Dict(),\n",
    "    1000\n",
    ")"
   ]
  },
  {
   "cell_type": "code",
   "execution_count": 7,
   "metadata": {},
   "outputs": [
    {
     "name": "stdout",
     "output_type": "stream",
     "text": [
      "  6.144319 seconds (219.56 M allocations: 6.739 GiB, 13.89% gc time)\n"
     ]
    },
    {
     "data": {
      "text/plain": [
       "Dict{AbstractAlgebra.Generic.MPoly{Nemo.gfp_elem},AbstractAlgebra.Generic.AbsSeries{Nemo.gfp_elem}} with 4 entries:\n",
       "  x => 5+(56)*t+(2147483053)*t^2+(1431657845)*t^3+(984261144)*t^4+(322104938)*t…\n",
       "  y => 6+(2147483618)*t+(1073741728)*t^2+(1431657510)*t^3+(1431645202)*t^4+(173…\n",
       "  z => 8+(2147483601)*t+(1073742104)*t^2+(1431653045)*t^3+(1610628003)*t^4+(644…\n",
       "  w => 2+(22)*t+(1073741808)*t^2+(1431654011)*t^3+(894795952)*t^4+(1073732750)*…"
      ]
     },
     "execution_count": 7,
     "metadata": {},
     "output_type": "execute_result"
    }
   ],
   "source": [
    "# QWWC\n",
    "\n",
    "var_names = [\n",
    "    \"x\", \"y\", \"z\", \"w\",\n",
    "    \"a\", \"b\", \"c\", \"d\", \"e\", \"f\"\n",
    "]\n",
    "\n",
    "R, (x, y, z, w, a, b, c, d, e, f) = PolynomialRing(F, var_names)\n",
    "\n",
    "ode = ODE(\n",
    "    Dict(\n",
    "        x => a * (y - x) + y * z,\n",
    "        y => b * (x + y) - x * z,\n",
    "        z => - c * z - d * w + x * y,\n",
    "        w => e * z - f * w + x * y\n",
    "    ),\n",
    "    []\n",
    ")\n",
    "\n",
    "params = [a, b, c, d, e, f]\n",
    "states = [x, y, z, w]\n",
    "\n",
    "@time ps = power_series_solution(\n",
    "    ode,\n",
    "    Dict(p => rand(1:10) for p in params),\n",
    "    Dict(v => rand(1:10) for v in states),\n",
    "    Dict(),\n",
    "    1000\n",
    ")"
   ]
  },
  {
   "cell_type": "code",
   "execution_count": 8,
   "metadata": {},
   "outputs": [
    {
     "name": "stdout",
     "output_type": "stream",
     "text": [
      " 11.865977 seconds (461.28 M allocations: 14.098 GiB, 12.67% gc time)\n"
     ]
    },
    {
     "data": {
      "text/plain": [
       "Dict{AbstractAlgebra.Generic.MPoly{Nemo.gfp_elem},AbstractAlgebra.Generic.AbsSeries{Nemo.gfp_elem}} with 6 entries:\n",
       "  J => 9+(9)*t+(585)*t^2+(22098)*t^3+(2146695142)*t^4+(14281962)*t^5+(112898998…\n",
       "  I => 5+(134)*t+(7626)*t^2+(715487257)*t^3+(723411859)*t^4+(759007530)*t^5+(15…\n",
       "  A => 3+(2147483424)*t+(1073735099)*t^2+(1789847890)*t^3+(2052084480)*t^4+(152…\n",
       "  E => 7+(552)*t+(2147456003)*t^2+(1432412160)*t^3+(1062385009)*t^4+(589421317)…\n",
       "  C => 6+(45)*t+(603)*t^2+(22878)*t^3+(2146717240)*t^4+(13651158)*t^5+(11385112…\n",
       "  S => 10+(2147483067)*t+(26540)*t^2+(1430936228)*t^3+(1800170125)*t^4+(1996644…"
      ]
     },
     "execution_count": 8,
     "metadata": {},
     "output_type": "execute_result"
    }
   ],
   "source": [
    "# Model 41\n",
    "\n",
    "var_names = [\n",
    "    \"S\", \"E\", \"A\", \"I\", \"J\", \"C\",\n",
    "    \"b\", \"k\", \"g1\", \"g2\", \"alpha\", \"r\", \"q\"\n",
    "]\n",
    "R, (S, E, A, I, J, C, b, k, g1, g2, alpha, r, q) = PolynomialRing(F, var_names)\n",
    "ode = ODE(\n",
    "    Dict(\n",
    "        S => -b * S * (I + J + q * A),\n",
    "        E => b * S * (I + J + q * A) - k * E,\n",
    "        A => k * (1 - r) * E - g1 * A,\n",
    "        I => k * r * E - (alpha + g1) * I,\n",
    "        J => alpha * I - g2 * J,\n",
    "        C => alpha * I\n",
    "    ),\n",
    "    []\n",
    ")\n",
    "\n",
    "params = [b, k, g1, g2, alpha, r, q]\n",
    "states = [S, E, A, I, J, C]\n",
    "\n",
    "@time ps = power_series_solution(\n",
    "    ode,\n",
    "    Dict(p => rand(1:10) for p in params),\n",
    "    Dict(v => rand(1:10) for v in states),\n",
    "    Dict(),\n",
    "    1000\n",
    ")"
   ]
  },
  {
   "cell_type": "code",
   "execution_count": null,
   "metadata": {},
   "outputs": [],
   "source": []
  }
 ],
 "metadata": {
  "kernelspec": {
   "display_name": "Julia 1.5.2",
   "language": "julia",
   "name": "julia-1.5"
  },
  "language_info": {
   "file_extension": ".jl",
   "mimetype": "application/julia",
   "name": "julia",
   "version": "1.5.2"
  }
 },
 "nbformat": 4,
 "nbformat_minor": 4
}
