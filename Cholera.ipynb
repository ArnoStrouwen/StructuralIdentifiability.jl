{
 "cells": [
  {
   "cell_type": "code",
   "execution_count": 1,
   "metadata": {},
   "outputs": [
    {
     "data": {
      "text/html": [
       "$\\require{action}$"
      ]
     },
     "metadata": {},
     "output_type": "display_data"
    },
    {
     "name": "stdout",
     "output_type": "stream",
     "text": [
      " -----    -----    -----      -      -----   \n",
      "|     |  |     |  |     |    | |    |     |  \n",
      "|     |  |        |         |   |   |     |  \n",
      "|     |   -----   |        |     |  |-----   \n",
      "|     |        |  |        |-----|  |   |    \n",
      "|     |  |     |  |     |  |     |  |    |   \n",
      " -----    -----    -----   -     -  -     -  \n",
      "\n",
      "...combining (and extending) GAP, Hecke, Nemo, Polymake and Singular\n",
      "Version\u001b[32m 0.3.0 \u001b[39m... \n",
      " ... which comes with absolutely no warranty whatsoever\n",
      "Type: '?Oscar' for more information\n",
      "(c) 2019-2020 by The Oscar Development Team\n"
     ]
    },
    {
     "data": {
      "text/plain": [
       "find_ioequation (generic function with 2 methods)"
      ]
     },
     "execution_count": 1,
     "metadata": {},
     "output_type": "execute_result"
    }
   ],
   "source": [
    "include(\"io_equation.jl\")"
   ]
  },
  {
   "cell_type": "code",
   "execution_count": 2,
   "metadata": {},
   "outputs": [
    {
     "name": "stdout",
     "output_type": "stream",
     "text": [
      "┌ Debug: \t Computing Lie derivatives 2020-08-26T21:34:02.73\n",
      "└ @ Main /home/gleb/code/ode_elimination/Julia ODE/io_equation.jl:75\n",
      "┌ Debug: \t Using GCD to eliminate extra factors 2020-08-26T21:34:05.245\n",
      "└ @ Main /home/gleb/code/ode_elimination/Julia ODE/elimination.jl:317\n",
      "┌ Debug: Generating new point on the variety\n",
      "└ @ Main /home/gleb/code/ode_elimination/Julia ODE/elimination.jl:170\n",
      "┌ Debug: Generating new point on the variety\n",
      "└ @ Main /home/gleb/code/ode_elimination/Julia ODE/elimination.jl:170\n",
      "┌ Debug: \t Using GCD to eliminate extra factors 2020-08-26T21:34:05.595\n",
      "└ @ Main /home/gleb/code/ode_elimination/Julia ODE/elimination.jl:317\n",
      "┌ Debug: \t Decreasing degree with linear combination 2020-08-26T21:34:05.596\n",
      "└ @ Main /home/gleb/code/ode_elimination/Julia ODE/elimination.jl:237\n",
      "┌ Debug: \t Using GCD to eliminate extra factors 2020-08-26T21:34:05.596\n",
      "└ @ Main /home/gleb/code/ode_elimination/Julia ODE/elimination.jl:317\n",
      "┌ Debug: \t Using GCD to eliminate extra factors 2020-08-26T21:34:05.596\n",
      "└ @ Main /home/gleb/code/ode_elimination/Julia ODE/elimination.jl:317\n",
      "┌ Debug: Elimination of x_1, 4 left; 2020-08-26T21:34:05.701\n",
      "└ @ Main /home/gleb/code/ode_elimination/Julia ODE/io_equation.jl:126\n",
      "┌ Debug: \t Using GCD to eliminate extra factors 2020-08-26T21:34:05.762\n",
      "└ @ Main /home/gleb/code/ode_elimination/Julia ODE/elimination.jl:317\n",
      "┌ Debug: \t Using GCD to eliminate extra factors 2020-08-26T21:34:05.763\n",
      "└ @ Main /home/gleb/code/ode_elimination/Julia ODE/elimination.jl:317\n",
      "┌ Debug: \t Using GCD to eliminate extra factors 2020-08-26T21:34:05.763\n",
      "└ @ Main /home/gleb/code/ode_elimination/Julia ODE/elimination.jl:317\n",
      "┌ Debug: \t Decreasing degree with linear combination 2020-08-26T21:34:05.763\n",
      "└ @ Main /home/gleb/code/ode_elimination/Julia ODE/elimination.jl:237\n",
      "┌ Debug: \t Using GCD to eliminate extra factors 2020-08-26T21:34:05.763\n",
      "└ @ Main /home/gleb/code/ode_elimination/Julia ODE/elimination.jl:317\n",
      "┌ Debug: \t Using GCD to eliminate extra factors 2020-08-26T21:34:05.763\n",
      "└ @ Main /home/gleb/code/ode_elimination/Julia ODE/elimination.jl:317\n",
      "┌ Debug: \t Using GCD to eliminate extra factors 2020-08-26T21:34:05.764\n",
      "└ @ Main /home/gleb/code/ode_elimination/Julia ODE/elimination.jl:317\n",
      "┌ Debug: \t Decreasing degree with linear combination 2020-08-26T21:34:05.764\n",
      "└ @ Main /home/gleb/code/ode_elimination/Julia ODE/elimination.jl:237\n",
      "┌ Debug: \t Using GCD to eliminate extra factors 2020-08-26T21:34:05.764\n",
      "└ @ Main /home/gleb/code/ode_elimination/Julia ODE/elimination.jl:317\n",
      "┌ Debug: Elimination of x_0, 3 left; 2020-08-26T21:34:05.764\n",
      "└ @ Main /home/gleb/code/ode_elimination/Julia ODE/io_equation.jl:126\n",
      "┌ Debug: \t Applying variable change: x_2 --> x_2 - ( -bi*y_0 )/( -bw*k ); 2020-08-26T21:34:05.798\n",
      "└ @ Main /home/gleb/code/ode_elimination/Julia ODE/io_equation.jl:138\n",
      "┌ Debug: \t Using GCD to eliminate extra factors 2020-08-26T21:34:06.229\n",
      "└ @ Main /home/gleb/code/ode_elimination/Julia ODE/elimination.jl:317\n",
      "┌ Debug: \t \t Size of extra factor: 1; 2020-08-26T21:34:06.295\n",
      "└ @ Main /home/gleb/code/ode_elimination/Julia ODE/elimination.jl:325\n",
      "┌ Debug: \t Using GCD to eliminate extra factors 2020-08-26T21:34:06.295\n",
      "└ @ Main /home/gleb/code/ode_elimination/Julia ODE/elimination.jl:317\n",
      "┌ Debug: \t Using GCD to eliminate extra factors 2020-08-26T21:34:06.296\n",
      "└ @ Main /home/gleb/code/ode_elimination/Julia ODE/elimination.jl:317\n",
      "┌ Debug: \t Using GCD to eliminate extra factors 2020-08-26T21:34:06.296\n",
      "└ @ Main /home/gleb/code/ode_elimination/Julia ODE/elimination.jl:317\n",
      "┌ Debug: \t Using GCD to eliminate extra factors 2020-08-26T21:34:06.296\n",
      "└ @ Main /home/gleb/code/ode_elimination/Julia ODE/elimination.jl:317\n",
      "┌ Debug: \t \t Size of extra factor: 1; 2020-08-26T21:34:06.297\n",
      "└ @ Main /home/gleb/code/ode_elimination/Julia ODE/elimination.jl:325\n",
      "┌ Debug: \t Decreasing degree with linear combination 2020-08-26T21:34:06.297\n",
      "└ @ Main /home/gleb/code/ode_elimination/Julia ODE/elimination.jl:237\n",
      "┌ Debug: \t Using GCD to eliminate extra factors 2020-08-26T21:34:06.297\n",
      "└ @ Main /home/gleb/code/ode_elimination/Julia ODE/elimination.jl:317\n",
      "┌ Debug: \t Decreasing degree with linear combination 2020-08-26T21:34:06.298\n",
      "└ @ Main /home/gleb/code/ode_elimination/Julia ODE/elimination.jl:237\n",
      "┌ Debug: \t Using GCD to eliminate extra factors 2020-08-26T21:34:06.298\n",
      "└ @ Main /home/gleb/code/ode_elimination/Julia ODE/elimination.jl:317\n",
      "┌ Debug: Elimination of x_3, 2 left; 2020-08-26T21:34:06.298\n",
      "└ @ Main /home/gleb/code/ode_elimination/Julia ODE/io_equation.jl:126\n",
      "┌ Debug: \t Using GCD to eliminate extra factors 2020-08-26T21:34:06.298\n",
      "└ @ Main /home/gleb/code/ode_elimination/Julia ODE/elimination.jl:317\n",
      "┌ Debug: \t Using GCD to eliminate extra factors 2020-08-26T21:34:06.299\n",
      "└ @ Main /home/gleb/code/ode_elimination/Julia ODE/elimination.jl:317\n",
      "┌ Debug: \t \t Size of extra factor: 1; 2020-08-26T21:34:06.3\n",
      "└ @ Main /home/gleb/code/ode_elimination/Julia ODE/elimination.jl:325\n",
      "┌ Debug: \t Decreasing degree with linear combination 2020-08-26T21:34:06.3\n",
      "└ @ Main /home/gleb/code/ode_elimination/Julia ODE/elimination.jl:237\n",
      "┌ Debug: \t Using GCD to eliminate extra factors 2020-08-26T21:34:06.3\n",
      "└ @ Main /home/gleb/code/ode_elimination/Julia ODE/elimination.jl:317\n",
      "┌ Debug: Elimination of x_2, 1 left; 2020-08-26T21:34:06.301\n",
      "└ @ Main /home/gleb/code/ode_elimination/Julia ODE/io_equation.jl:126\n",
      "┌ Debug: Calculating Bezout Matrix 2020-08-26T21:34:06.301\n",
      "└ @ Main /home/gleb/code/ode_elimination/Julia ODE/elimination.jl:290\n",
      "┌ Debug: Simplifying Bezout Matrix 2020-08-26T21:34:06.416\n",
      "└ @ Main /home/gleb/code/ode_elimination/Julia ODE/elimination.jl:294\n",
      "┌ Debug: \t Bezout matrix size: \n",
      "│  [ 23  179   83]\n",
      "│ [349  911  349]\n",
      "│ [173  349  321]\n",
      "└ @ Main /home/gleb/code/ode_elimination/Julia ODE/elimination.jl:306\n",
      "┌ Debug: \t Computing determinant 2020-08-26T21:34:06.908\n",
      "└ @ Main /home/gleb/code/ode_elimination/Julia ODE/elimination.jl:307\n",
      "┌ Debug: Discarded: ((1, 2), (1, 2)); 2020-08-26T21:34:07.687\n",
      "└ @ Main /home/gleb/code/ode_elimination/Julia ODE/elimination.jl:32\n",
      "┌ Debug: Discarded: ((1, 2), (1, 3)); 2020-08-26T21:34:07.762\n",
      "└ @ Main /home/gleb/code/ode_elimination/Julia ODE/elimination.jl:32\n",
      "┌ Debug: Discarded: ((1,), (1,)); 2020-08-26T21:34:07.792\n",
      "└ @ Main /home/gleb/code/ode_elimination/Julia ODE/elimination.jl:32\n",
      "┌ Debug: Discarded: ((1, 2), (2, 3)); 2020-08-26T21:34:07.872\n",
      "└ @ Main /home/gleb/code/ode_elimination/Julia ODE/elimination.jl:32\n",
      "┌ Debug: Discarded: ((1,), (2,)); 2020-08-26T21:34:07.877\n",
      "└ @ Main /home/gleb/code/ode_elimination/Julia ODE/elimination.jl:32\n",
      "┌ Debug: Discarded: ((1,), (3,)); 2020-08-26T21:34:08.023\n",
      "└ @ Main /home/gleb/code/ode_elimination/Julia ODE/elimination.jl:32\n",
      "┌ Debug: Discarded: ((), ()); 2020-08-26T21:34:08.084\n",
      "└ @ Main /home/gleb/code/ode_elimination/Julia ODE/elimination.jl:32\n",
      "┌ Debug: \t Using GCD to eliminate extra factors 2020-08-26T21:34:08.747\n",
      "└ @ Main /home/gleb/code/ode_elimination/Julia ODE/elimination.jl:317\n",
      "  9.970300 seconds (28.83 M allocations: 1.633 GiB, 3.17% gc time)\n"
     ]
    }
   ],
   "source": [
    "# SIWR Cholera model\n",
    "logger = Logging.SimpleLogger(stdout, Logging.Debug)\n",
    "global_logger(logger)\n",
    "\n",
    "var_names = [\n",
    "    \"x_0\", \"x_1\", \"x_2\", \"x_3\",\n",
    "    \"a\", \"bi\", \"bw\", \"gam\", \"mu\", \"xi\", \"k\"\n",
    "]\n",
    "R, (x_0, x_1, x_2, x_3, a, bi, bw, gam, mu, xi, k) = PolynomialRing(QQ, var_names)\n",
    "\n",
    "ode = ODE(\n",
    "    Dict(\n",
    "        x_0 => mu - bi * x_0 * x_1 - bw * x_0 * x_2 - mu * x_0 + a * x_3,\n",
    "        x_1 => bw * x_0 * x_2 + bi * x_0 * x_1 - (gam + mu) * x_1,\n",
    "        x_2 => xi * (x_1 - x_2),\n",
    "        x_3 => gam * x_1 - (mu + a) * x_3\n",
    "    ),\n",
    "    []\n",
    ")\n",
    "\n",
    "@time io_equation = find_ioequation(ode, k * x_1);"
   ]
  },
  {
   "cell_type": "code",
   "execution_count": 3,
   "metadata": {},
   "outputs": [
    {
     "data": {
      "text/html": [
       "$209349$"
      ],
      "text/plain": [
       "209349"
      ]
     },
     "execution_count": 3,
     "metadata": {},
     "output_type": "execute_result"
    }
   ],
   "source": [
    "length(io_equation)"
   ]
  },
  {
   "cell_type": "code",
   "execution_count": 4,
   "metadata": {},
   "outputs": [
    {
     "name": "stdout",
     "output_type": "stream",
     "text": [
      "┌ Debug: Extracting coefficients\n",
      "└ @ Main /home/gleb/code/ode_elimination/Julia ODE/util.jl:240\n",
      "┌ Debug: Constructing equations\n",
      "└ @ Main /home/gleb/code/ode_elimination/Julia ODE/util.jl:202\n",
      "┌ Debug: Pivot polynomial is 81*bi^4*k^2\n",
      "└ @ Main /home/gleb/code/ode_elimination/Julia ODE/util.jl:207\n",
      "┌ Debug: Computing Groebner basis (772 equations)\n",
      "└ @ Main /home/gleb/code/ode_elimination/Julia ODE/util.jl:219\n",
      "┌ Debug: Producing the result\n",
      "└ @ Main /home/gleb/code/ode_elimination/Julia ODE/util.jl:229\n",
      "  6.691527 seconds (23.81 M allocations: 1.145 GiB, 11.79% gc time)\n"
     ]
    },
    {
     "data": {
      "text/plain": [
       "Dict{Any,Any} with 7 entries:\n",
       "  gam => true\n",
       "  xi  => true\n",
       "  k   => true\n",
       "  bi  => true\n",
       "  a   => true\n",
       "  mu  => true\n",
       "  bw  => true"
      ]
     },
     "execution_count": 4,
     "metadata": {},
     "output_type": "execute_result"
    }
   ],
   "source": [
    "@time check_identifiability(\n",
    "    io_equation, \n",
    "    [a, bi, bw, gam, mu, xi, k]\n",
    ")"
   ]
  },
  {
   "cell_type": "code",
   "execution_count": null,
   "metadata": {},
   "outputs": [],
   "source": []
  }
 ],
 "metadata": {
  "kernelspec": {
   "display_name": "Julia 1.4.2",
   "language": "julia",
   "name": "julia-1.4"
  },
  "language_info": {
   "file_extension": ".jl",
   "mimetype": "application/julia",
   "name": "julia",
   "version": "1.4.2"
  }
 },
 "nbformat": 4,
 "nbformat_minor": 4
}
