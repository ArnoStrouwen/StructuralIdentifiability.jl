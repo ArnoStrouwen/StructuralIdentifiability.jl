{
 "cells": [
  {
   "cell_type": "code",
   "execution_count": 1,
   "metadata": {},
   "outputs": [
    {
     "data": {
      "text/html": [
       "$\\require{action}$"
      ]
     },
     "metadata": {},
     "output_type": "display_data"
    },
    {
     "name": "stdout",
     "output_type": "stream",
     "text": [
      " -----    -----    -----      -      -----   \n",
      "|     |  |     |  |     |    | |    |     |  \n",
      "|     |  |        |         |   |   |     |  \n",
      "|     |   -----   |        |     |  |-----   \n",
      "|     |        |  |        |-----|  |   |    \n",
      "|     |  |     |  |     |  |     |  |    |   \n",
      " -----    -----    -----   -     -  -     -  \n",
      "\n",
      "...combining (and extending) GAP, Hecke, Nemo, Polymake and Singular\n",
      "Version\u001b[32m 0.3.0 \u001b[39m... \n",
      " ... which comes with absolutely no warranty whatsoever\n",
      "Type: '?Oscar' for more information\n",
      "(c) 2019-2020 by The Oscar Development Team\n"
     ]
    },
    {
     "data": {
      "text/plain": [
       "find_ioequation (generic function with 2 methods)"
      ]
     },
     "execution_count": 1,
     "metadata": {},
     "output_type": "execute_result"
    }
   ],
   "source": [
    "include(\"io_equation.jl\")"
   ]
  },
  {
   "cell_type": "code",
   "execution_count": 2,
   "metadata": {},
   "outputs": [
    {
     "name": "stdout",
     "output_type": "stream",
     "text": [
      "┌ Debug: \t Computing Lie derivatives 2020-08-26T21:35:43.236\n",
      "└ @ Main /home/gleb/code/ode_elimination/Julia ODE/io_equation.jl:75\n",
      "┌ Debug: \t Using GCD to eliminate extra factors 2020-08-26T21:35:45.6\n",
      "└ @ Main /home/gleb/code/ode_elimination/Julia ODE/elimination.jl:317\n",
      "┌ Debug: Generating new point on the variety\n",
      "└ @ Main /home/gleb/code/ode_elimination/Julia ODE/elimination.jl:170\n",
      "┌ Debug: Generating new point on the variety\n",
      "└ @ Main /home/gleb/code/ode_elimination/Julia ODE/elimination.jl:170\n",
      "┌ Debug: \t Decreasing degree with linear combination 2020-08-26T21:35:45.952\n",
      "└ @ Main /home/gleb/code/ode_elimination/Julia ODE/elimination.jl:243\n",
      "┌ Debug: \t Using GCD to eliminate extra factors 2020-08-26T21:35:45.953\n",
      "└ @ Main /home/gleb/code/ode_elimination/Julia ODE/elimination.jl:317\n",
      "┌ Debug: \t Using GCD to eliminate extra factors 2020-08-26T21:35:45.953\n",
      "└ @ Main /home/gleb/code/ode_elimination/Julia ODE/elimination.jl:317\n",
      "┌ Debug: \t Using GCD to eliminate extra factors 2020-08-26T21:35:45.953\n",
      "└ @ Main /home/gleb/code/ode_elimination/Julia ODE/elimination.jl:317\n",
      "┌ Debug: Elimination of x_0, 4 left; 2020-08-26T21:35:46.057\n",
      "└ @ Main /home/gleb/code/ode_elimination/Julia ODE/io_equation.jl:126\n",
      "┌ Debug: \t Using GCD to eliminate extra factors 2020-08-26T21:35:46.088\n",
      "└ @ Main /home/gleb/code/ode_elimination/Julia ODE/elimination.jl:317\n",
      "┌ Debug: \t Decreasing degree with linear combination 2020-08-26T21:35:46.088\n",
      "└ @ Main /home/gleb/code/ode_elimination/Julia ODE/elimination.jl:243\n",
      "┌ Debug: \t Using GCD to eliminate extra factors 2020-08-26T21:35:46.088\n",
      "└ @ Main /home/gleb/code/ode_elimination/Julia ODE/elimination.jl:317\n",
      "┌ Debug: \t Decreasing degree with linear combination 2020-08-26T21:35:46.088\n",
      "└ @ Main /home/gleb/code/ode_elimination/Julia ODE/elimination.jl:243\n",
      "┌ Debug: \t Using GCD to eliminate extra factors 2020-08-26T21:35:46.089\n",
      "└ @ Main /home/gleb/code/ode_elimination/Julia ODE/elimination.jl:317\n",
      "┌ Debug: \t Decreasing degree with linear combination 2020-08-26T21:35:46.089\n",
      "└ @ Main /home/gleb/code/ode_elimination/Julia ODE/elimination.jl:237\n",
      "┌ Debug: \t Decreasing degree with linear combination 2020-08-26T21:35:46.089\n",
      "└ @ Main /home/gleb/code/ode_elimination/Julia ODE/elimination.jl:237\n",
      "┌ Debug: \t Using GCD to eliminate extra factors 2020-08-26T21:35:46.089\n",
      "└ @ Main /home/gleb/code/ode_elimination/Julia ODE/elimination.jl:317\n",
      "┌ Debug: \t Using GCD to eliminate extra factors 2020-08-26T21:35:46.09\n",
      "└ @ Main /home/gleb/code/ode_elimination/Julia ODE/elimination.jl:317\n",
      "┌ Debug: \t Decreasing degree with linear combination 2020-08-26T21:35:46.09\n",
      "└ @ Main /home/gleb/code/ode_elimination/Julia ODE/elimination.jl:237\n",
      "┌ Debug: \t Using GCD to eliminate extra factors 2020-08-26T21:35:46.09\n",
      "└ @ Main /home/gleb/code/ode_elimination/Julia ODE/elimination.jl:317\n",
      "┌ Debug: \t Using GCD to eliminate extra factors 2020-08-26T21:35:46.133\n",
      "└ @ Main /home/gleb/code/ode_elimination/Julia ODE/elimination.jl:317\n",
      "┌ Debug: Elimination of x_1, 3 left; 2020-08-26T21:35:46.134\n",
      "└ @ Main /home/gleb/code/ode_elimination/Julia ODE/io_equation.jl:126\n",
      "┌ Debug: \t Applying variable change: x_2 --> x_2 - ( -kc*ka - ka*y_0 )/( -kc ); 2020-08-26T21:35:46.164\n",
      "└ @ Main /home/gleb/code/ode_elimination/Julia ODE/io_equation.jl:138\n",
      "┌ Debug: \t Using GCD to eliminate extra factors 2020-08-26T21:35:46.622\n",
      "└ @ Main /home/gleb/code/ode_elimination/Julia ODE/elimination.jl:317\n",
      "┌ Debug: \t \t Size of extra factor: 1; 2020-08-26T21:35:46.691\n",
      "└ @ Main /home/gleb/code/ode_elimination/Julia ODE/elimination.jl:325\n",
      "┌ Debug: \t Using GCD to eliminate extra factors 2020-08-26T21:35:46.691\n",
      "└ @ Main /home/gleb/code/ode_elimination/Julia ODE/elimination.jl:317\n",
      "┌ Debug: \t Using GCD to eliminate extra factors 2020-08-26T21:35:46.692\n",
      "└ @ Main /home/gleb/code/ode_elimination/Julia ODE/elimination.jl:317\n",
      "┌ Debug: \t Using GCD to eliminate extra factors 2020-08-26T21:35:46.693\n",
      "└ @ Main /home/gleb/code/ode_elimination/Julia ODE/elimination.jl:317\n",
      "┌ Debug: \t Using GCD to eliminate extra factors 2020-08-26T21:35:46.693\n",
      "└ @ Main /home/gleb/code/ode_elimination/Julia ODE/elimination.jl:317\n",
      "┌ Debug: \t \t Size of extra factor: 1; 2020-08-26T21:35:46.694\n",
      "└ @ Main /home/gleb/code/ode_elimination/Julia ODE/elimination.jl:325\n",
      "┌ Debug: \t Decreasing degree with linear combination 2020-08-26T21:35:46.694\n",
      "└ @ Main /home/gleb/code/ode_elimination/Julia ODE/elimination.jl:237\n",
      "┌ Debug: \t Using GCD to eliminate extra factors 2020-08-26T21:35:46.694\n",
      "└ @ Main /home/gleb/code/ode_elimination/Julia ODE/elimination.jl:317\n",
      "┌ Debug: \t Using GCD to eliminate extra factors 2020-08-26T21:35:46.696\n",
      "└ @ Main /home/gleb/code/ode_elimination/Julia ODE/elimination.jl:317\n",
      "┌ Debug: Elimination of x_3, 2 left; 2020-08-26T21:35:46.696\n",
      "└ @ Main /home/gleb/code/ode_elimination/Julia ODE/io_equation.jl:126\n",
      "┌ Debug: \t Decreasing degree with linear combination 2020-08-26T21:35:46.697\n",
      "└ @ Main /home/gleb/code/ode_elimination/Julia ODE/elimination.jl:237\n",
      "┌ Debug: \t Using GCD to eliminate extra factors 2020-08-26T21:35:46.697\n",
      "└ @ Main /home/gleb/code/ode_elimination/Julia ODE/elimination.jl:317\n",
      "┌ Debug: \t \t Size of extra factor: 1; 2020-08-26T21:35:46.697\n",
      "└ @ Main /home/gleb/code/ode_elimination/Julia ODE/elimination.jl:325\n",
      "┌ Debug: \t Decreasing degree with linear combination 2020-08-26T21:35:46.698\n",
      "└ @ Main /home/gleb/code/ode_elimination/Julia ODE/elimination.jl:237\n",
      "┌ Debug: \t Using GCD to eliminate extra factors 2020-08-26T21:35:46.698\n",
      "└ @ Main /home/gleb/code/ode_elimination/Julia ODE/elimination.jl:317\n",
      "┌ Debug: \t \t Size of extra factor: 1; 2020-08-26T21:35:46.699\n",
      "└ @ Main /home/gleb/code/ode_elimination/Julia ODE/elimination.jl:325\n",
      "┌ Debug: \t Using GCD to eliminate extra factors 2020-08-26T21:35:46.7\n",
      "└ @ Main /home/gleb/code/ode_elimination/Julia ODE/elimination.jl:317\n",
      "┌ Debug: Elimination of x_2, 1 left; 2020-08-26T21:35:46.7\n",
      "└ @ Main /home/gleb/code/ode_elimination/Julia ODE/io_equation.jl:126\n",
      "┌ Debug: \t Decreasing degree with linear combination 2020-08-26T21:35:46.701\n",
      "└ @ Main /home/gleb/code/ode_elimination/Julia ODE/elimination.jl:237\n",
      "┌ Debug: Calculating Bezout Matrix 2020-08-26T21:35:46.701\n",
      "└ @ Main /home/gleb/code/ode_elimination/Julia ODE/elimination.jl:290\n",
      "┌ Debug: Simplifying Bezout Matrix 2020-08-26T21:35:46.83\n",
      "└ @ Main /home/gleb/code/ode_elimination/Julia ODE/elimination.jl:294\n",
      "┌ Debug: \t Bezout matrix size: \n",
      "│  [100  147  113  110]\n",
      "│ [147  250  228  163]\n",
      "│ [113  228  294  168]\n",
      "│ [ 53   89   89   35]\n",
      "└ @ Main /home/gleb/code/ode_elimination/Julia ODE/elimination.jl:306\n",
      "┌ Debug: \t Computing determinant 2020-08-26T21:35:47.331\n",
      "└ @ Main /home/gleb/code/ode_elimination/Julia ODE/elimination.jl:307\n",
      "┌ Debug: Discarded: ((1, 2), (1, 2)); 2020-08-26T21:35:48.31\n",
      "└ @ Main /home/gleb/code/ode_elimination/Julia ODE/elimination.jl:32\n",
      "┌ Debug: Discarded: ((1, 2), (1, 3)); 2020-08-26T21:35:48.44\n",
      "└ @ Main /home/gleb/code/ode_elimination/Julia ODE/elimination.jl:32\n",
      "┌ Debug: Discarded: ((1, 2), (1, 4)); 2020-08-26T21:35:48.499\n",
      "└ @ Main /home/gleb/code/ode_elimination/Julia ODE/elimination.jl:32\n",
      "┌ Debug: Discarded: ((1,), (1,)); 2020-08-26T21:35:48.54\n",
      "└ @ Main /home/gleb/code/ode_elimination/Julia ODE/elimination.jl:32\n",
      "┌ Debug: Discarded: ((1, 2), (2, 3)); 2020-08-26T21:35:49.029\n",
      "└ @ Main /home/gleb/code/ode_elimination/Julia ODE/elimination.jl:32\n",
      "┌ Debug: Discarded: ((1, 2), (2, 4)); 2020-08-26T21:35:49.077\n",
      "└ @ Main /home/gleb/code/ode_elimination/Julia ODE/elimination.jl:32\n",
      "┌ Debug: Discarded: ((1,), (2,)); 2020-08-26T21:35:49.106\n",
      "└ @ Main /home/gleb/code/ode_elimination/Julia ODE/elimination.jl:32\n",
      "┌ Debug: Discarded: ((1, 2), (3, 4)); 2020-08-26T21:35:49.966\n",
      "└ @ Main /home/gleb/code/ode_elimination/Julia ODE/elimination.jl:32\n",
      "┌ Debug: Discarded: ((1,), (3,)); 2020-08-26T21:35:49.988\n",
      "└ @ Main /home/gleb/code/ode_elimination/Julia ODE/elimination.jl:32\n",
      "┌ Debug: Discarded: ((1,), (4,)); 2020-08-26T21:35:50.491\n",
      "└ @ Main /home/gleb/code/ode_elimination/Julia ODE/elimination.jl:32\n",
      "┌ Debug: Discarded: ((), ()); 2020-08-26T21:35:50.804\n",
      "└ @ Main /home/gleb/code/ode_elimination/Julia ODE/elimination.jl:32\n",
      "┌ Debug: \t Using GCD to eliminate extra factors 2020-08-26T21:35:55.081\n",
      "└ @ Main /home/gleb/code/ode_elimination/Julia ODE/elimination.jl:317\n",
      "┌ Debug: \t \t Size of extra factor: 1; 2020-08-26T21:35:58.127\n",
      "└ @ Main /home/gleb/code/ode_elimination/Julia ODE/elimination.jl:325\n",
      " 18.483539 seconds (54.30 M allocations: 3.836 GiB, 6.43% gc time)\n"
     ]
    }
   ],
   "source": [
    "logger = Logging.SimpleLogger(stdout, Logging.Debug)\n",
    "global_logger(logger)\n",
    "\n",
    "var_names = [\n",
    "    \"x_0\", \"x_1\", \"x_2\", \"x_3\",\n",
    "    \"a1\", \"a2\", \"b1\", \"b2\", \"kc\", \"ka\", \"n\"\n",
    "]\n",
    "\n",
    "R, (x_0, x_1, x_2, x_3, a1, a2, b1, b2, kc, ka, n) = PolynomialRing(QQ, var_names)\n",
    "\n",
    "ode = ODE(\n",
    "    Dict(\n",
    "        x_0 => a1 * (x_1 - x_0) - (ka * n * x_0) // (kc * ka + kc * x_2 + ka * x_0),\n",
    "        x_1 => a2 * (x_0 - x_1),\n",
    "        x_2 => b1 * (x_3 - x_2) - (kc * n * x_2) // (kc * ka + kc * x_2 + ka * x_0),\n",
    "        x_3 => b2 * (x_2 - x_3)\n",
    "    ),\n",
    "    []\n",
    ")\n",
    "\n",
    "g = x_0\n",
    "\n",
    "@time io_equation = find_ioequation(ode, g);"
   ]
  },
  {
   "cell_type": "markdown",
   "metadata": {},
   "source": [
    "Extra factor in the end is y_0"
   ]
  },
  {
   "cell_type": "code",
   "execution_count": 3,
   "metadata": {},
   "outputs": [
    {
     "data": {
      "text/html": [
       "$1062556$"
      ],
      "text/plain": [
       "1062556"
      ]
     },
     "execution_count": 3,
     "metadata": {},
     "output_type": "execute_result"
    }
   ],
   "source": [
    "length(io_equation)"
   ]
  },
  {
   "cell_type": "code",
   "execution_count": 4,
   "metadata": {},
   "outputs": [
    {
     "name": "stdout",
     "output_type": "stream",
     "text": [
      "┌ Debug: Extracting coefficients\n",
      "└ @ Main /home/gleb/code/ode_elimination/Julia ODE/util.jl:240\n",
      "┌ Debug: Constructing equations\n",
      "└ @ Main /home/gleb/code/ode_elimination/Julia ODE/util.jl:202\n",
      "┌ Debug: Pivot polynomial is 216*kc^6 - 1080*kc^5*ka + 2160*kc^4*ka^2 - 2160*kc^3*ka^3 + 1080*kc^2*ka^4 - 216*kc*ka^5\n",
      "└ @ Main /home/gleb/code/ode_elimination/Julia ODE/util.jl:207\n",
      "┌ Debug: Computing Groebner basis (3537 equations)\n",
      "└ @ Main /home/gleb/code/ode_elimination/Julia ODE/util.jl:219\n",
      "┌ Debug: Producing the result\n",
      "└ @ Main /home/gleb/code/ode_elimination/Julia ODE/util.jl:229\n",
      "155.200852 seconds (101.97 M allocations: 4.842 GiB, 2.28% gc time)\n"
     ]
    },
    {
     "data": {
      "text/plain": [
       "Dict{Any,Any} with 7 entries:\n",
       "  b2 => true\n",
       "  ka => true\n",
       "  n  => true\n",
       "  a2 => true\n",
       "  a1 => true\n",
       "  kc => true\n",
       "  b1 => true"
      ]
     },
     "execution_count": 4,
     "metadata": {},
     "output_type": "execute_result"
    }
   ],
   "source": [
    "@time check_identifiability(\n",
    "    io_equation, \n",
    "    [a1, a2, b1, b2, kc, ka, n]\n",
    ")"
   ]
  },
  {
   "cell_type": "code",
   "execution_count": null,
   "metadata": {},
   "outputs": [],
   "source": []
  }
 ],
 "metadata": {
  "kernelspec": {
   "display_name": "Julia 1.4.2",
   "language": "julia",
   "name": "julia-1.4"
  },
  "language_info": {
   "file_extension": ".jl",
   "mimetype": "application/julia",
   "name": "julia",
   "version": "1.4.2"
  }
 },
 "nbformat": 4,
 "nbformat_minor": 4
}
