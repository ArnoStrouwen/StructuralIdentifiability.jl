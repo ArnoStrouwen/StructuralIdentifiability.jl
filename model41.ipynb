{
 "cells": [
  {
   "cell_type": "code",
   "execution_count": null,
   "metadata": {},
   "outputs": [],
   "source": [
    "include(\"io_equation.jl\")"
   ]
  },
  {
   "cell_type": "code",
   "execution_count": null,
   "metadata": {},
   "outputs": [],
   "source": [
    " # model 41, normalized (all state variables are divided by N)\n",
    "logger = Logging.SimpleLogger(stdout, Logging.Debug)\n",
    "global_logger(logger)\n",
    "\n",
    "var_names = [\n",
    "    \"S\", \"E\", \"A\", \"I\", \"J\", \"C\",\n",
    "    \"b\", \"k\", \"g1\", \"g2\", \"alpha\", \"r\", \"q\"\n",
    "]\n",
    "R, (S, E, A, I, J, C, b, k, g1, g2, alpha, r, q) = PolynomialRing(QQ, var_names)\n",
    "ode = ODE(\n",
    "    Dict(\n",
    "        S => -b * S * (I + J + q * A),\n",
    "        E => b * S * (I + J + q * A) - k * E,\n",
    "        A => k * (1 - r) * E - g1 * A,\n",
    "        I => k * r * E - (alpha + g1) * I,\n",
    "        J => alpha * I - g2 * J,\n",
    "        C => alpha * I\n",
    "    ),\n",
    "    []\n",
    ")\n",
    "\n",
    "g = C\n",
    "\n",
    "@time io_equation = find_ioequation(ode, g);"
   ]
  },
  {
   "cell_type": "code",
   "execution_count": null,
   "metadata": {},
   "outputs": [],
   "source": [
    "length(io_equation)"
   ]
  },
  {
   "cell_type": "code",
   "execution_count": null,
   "metadata": {},
   "outputs": [],
   "source": [
    "@time check_identifiability(\n",
    "    io_equation, \n",
    "    [b, k, g1, g2, alpha, r, q]\n",
    ")"
   ]
  },
  {
   "cell_type": "code",
   "execution_count": null,
   "metadata": {},
   "outputs": [],
   "source": []
  }
 ],
 "metadata": {
  "kernelspec": {
   "display_name": "Julia 1.4.2",
   "language": "julia",
   "name": "julia-1.4"
  },
  "language_info": {
   "file_extension": ".jl",
   "mimetype": "application/julia",
   "name": "julia",
   "version": "1.4.2"
  }
 },
 "nbformat": 4,
 "nbformat_minor": 4
}
