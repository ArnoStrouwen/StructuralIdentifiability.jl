{
 "cells": [
  {
   "cell_type": "code",
   "execution_count": 13,
   "metadata": {},
   "outputs": [
    {
     "data": {
      "text/plain": [
       "find_ioequation (generic function with 2 methods)"
      ]
     },
     "execution_count": 13,
     "metadata": {},
     "output_type": "execute_result"
    }
   ],
   "source": [
    "include(\"io_equation.jl\")"
   ]
  },
  {
   "cell_type": "code",
   "execution_count": 14,
   "metadata": {},
   "outputs": [
    {
     "data": {
      "text/html": [
       "(Multivariate Polynomial Ring in b, y1_0, y1_1, y2_1, z over Rational Field, [fmpq_mpoly[b, y1_0, y1_1, y2_1, z])"
      ],
      "text/plain": [
       "(Multivariate Polynomial Ring in b, y1_0, y1_1, y2_1, z over Rational Field, fmpq_mpoly[b, y1_0, y1_1, y2_1, z])"
      ]
     },
     "execution_count": 14,
     "metadata": {},
     "output_type": "execute_result"
    }
   ],
   "source": [
    "R, (b,y1_0,y1_1,y2_1, z) = PolynomialRing(QQ, [\"b\",\"y1_0\", \"y1_1\", \"y2_1\", \"z\"])"
   ]
  },
  {
   "cell_type": "code",
   "execution_count": 15,
   "metadata": {},
   "outputs": [
    {
     "data": {
      "text/plain": [
       "-4*b^8*y1_0^4 + 8*b^6*y1_0^4 - 8*b^6*y1_0^2*z^2 + 8*b^6*y1_0^2 - 4*b^4*y1_0^4 - 8*b^4*y1_0^2*z^2 - 16*b^4*y1_0^2 - 4*b^4*z^4 + 8*b^4*z^2 - 4*b^4 + 8*b^2*y1_0^2 + 8*b^2*z^2 + 8*b^2 - 4"
      ]
     },
     "execution_count": 15,
     "metadata": {},
     "output_type": "execute_result"
    }
   ],
   "source": [
    "f = b^2*y1_0^2 + b^2*y1_1^2 - 1\n",
    "g = -4*b^2*y1_0^2 - 4*y2_1^2 + 4\n",
    "h = make_substitution(f, y1_1, z - y2_1, 1)\n",
    "res = eliminate_var(g, h, y2_1, nothing)"
   ]
  },
  {
   "cell_type": "code",
   "execution_count": 16,
   "metadata": {},
   "outputs": [
    {
     "data": {
      "text/plain": [
       "2-element Array{Any,1}:\n",
       " b^4*y1_0^2 - 2*b^3*y1_0^2 + b^2*y1_0^2 + b^2*z^2 - b^2 + 2*b - 1\n",
       " b^4*y1_0^2 + 2*b^3*y1_0^2 + b^2*y1_0^2 + b^2*z^2 - b^2 - 2*b - 1"
      ]
     },
     "execution_count": 16,
     "metadata": {},
     "output_type": "execute_result"
    }
   ],
   "source": [
    "fast_factor(res)"
   ]
  }
 ],
 "metadata": {
  "kernelspec": {
   "display_name": "Julia 1.4.2",
   "language": "julia",
   "name": "julia-1.4"
  },
  "language_info": {
   "file_extension": ".jl",
   "mimetype": "application/julia",
   "name": "julia",
   "version": "1.4.2"
  }
 },
 "nbformat": 4,
 "nbformat_minor": 2
}
