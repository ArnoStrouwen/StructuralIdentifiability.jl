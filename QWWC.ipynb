{
 "cells": [
  {
   "cell_type": "code",
   "execution_count": null,
   "metadata": {},
   "outputs": [],
   "source": [
    "include(\"io_equation.jl\")"
   ]
  },
  {
   "cell_type": "code",
   "execution_count": null,
   "metadata": {},
   "outputs": [],
   "source": [
    "#QWWC\n",
    "logger = Logging.SimpleLogger(stdout, Logging.Debug)\n",
    "global_logger(logger)\n",
    "\n",
    "var_names = [\n",
    "    \"x\", \"y\", \"z\", \"w\",\n",
    "    \"a\", \"b\", \"c\", \"d\", \"e\", \"f\"\n",
    "]\n",
    "\n",
    "R, (x, y, z, w, a, b, c, d, e, f) = PolynomialRing(QQ, var_names)\n",
    "\n",
    "ode = ODE(\n",
    "    Dict(\n",
    "        x => a * (y - x) + y * z,\n",
    "        y => b * (x + y) - x * z,\n",
    "        z => - c * z - d * w + x * y,\n",
    "        w => e * z - f * w + x * y\n",
    "    ),\n",
    "    []\n",
    ")\n",
    "\n",
    "g = x\n",
    "\n",
    "@time io_equation = find_ioequation(ode, g);"
   ]
  },
  {
   "cell_type": "code",
   "execution_count": null,
   "metadata": {},
   "outputs": [],
   "source": [
    "length(ode.io_equation)"
   ]
  },
  {
   "cell_type": "code",
   "execution_count": null,
   "metadata": {},
   "outputs": [],
   "source": [
    "@time check_identifiability(\n",
    "    ode.io_equation, \n",
    "    [a, b, c, d, e, f];\n",
    "    method=\"GroebnerBasis\"\n",
    ")"
   ]
  },
  {
   "cell_type": "code",
   "execution_count": null,
   "metadata": {},
   "outputs": [],
   "source": []
  }
 ],
 "metadata": {
  "kernelspec": {
   "display_name": "Julia 1.4.2",
   "language": "julia",
   "name": "julia-1.4"
  },
  "language_info": {
   "file_extension": ".jl",
   "mimetype": "application/julia",
   "name": "julia",
   "version": "1.4.2"
  }
 },
 "nbformat": 4,
 "nbformat_minor": 4
}
