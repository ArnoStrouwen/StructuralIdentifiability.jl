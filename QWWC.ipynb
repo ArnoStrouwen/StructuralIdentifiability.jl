{
 "cells": [
  {
   "cell_type": "code",
   "execution_count": null,
   "metadata": {},
   "outputs": [],
   "source": [
    "include(\"io_equation.jl\")"
   ]
  },
  {
   "cell_type": "code",
   "execution_count": null,
   "metadata": {},
   "outputs": [],
   "source": [
    "#QWWC\n",
    "logger = Logging.SimpleLogger(stdout, Logging.Debug)\n",
    "global_logger(logger)\n",
    "\n",
    "ode = @ODEmodel(\n",
    "    x'(t) = a * (y(t) - x(t)) + y(t) * z(t),\n",
    "    y'(t) = b * (x(t) + y(t)) - x(t) * z(t),\n",
    "    z'(t) = - c * z(t) - d * w(t) + x(t) * y(t),\n",
    "    w'(t) = e * z(t) - f * w(t) + x(t) * y(t)\n",
    ")\n",
    "\n",
    "g = x\n",
    "\n",
    "@time io_equations = find_ioequation(ode, [g]);"
   ]
  },
  {
   "cell_type": "code",
   "execution_count": null,
   "metadata": {},
   "outputs": [],
   "source": [
    "length(io_equations[1])"
   ]
  },
  {
   "cell_type": "code",
   "execution_count": null,
   "metadata": {},
   "outputs": [],
   "source": [
    "@time check_identifiability(\n",
    "    io_equations[1], \n",
    "    [a, b, c, d, e, f];\n",
    "    method=\"GroebnerBasis\"\n",
    ")"
   ]
  },
  {
   "cell_type": "code",
   "execution_count": null,
   "metadata": {},
   "outputs": [],
   "source": []
  }
 ],
 "metadata": {
  "kernelspec": {
   "display_name": "Julia 1.4.2",
   "language": "julia",
   "name": "julia-1.4"
  },
  "language_info": {
   "file_extension": ".jl",
   "mimetype": "application/julia",
   "name": "julia",
   "version": "1.4.2"
  }
 },
 "nbformat": 4,
 "nbformat_minor": 4
}
